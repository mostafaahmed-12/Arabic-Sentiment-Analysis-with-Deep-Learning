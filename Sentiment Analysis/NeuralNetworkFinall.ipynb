{
  "cells": [
    {
      "cell_type": "code",
      "execution_count": null,
      "metadata": {
        "id": "75NRNgWBVPJa",
        "colab": {
          "base_uri": "https://localhost:8080/"
        },
        "outputId": "d2176003-7210-4a9b-8c02-3bf36b945504"
      },
      "outputs": [
        {
          "output_type": "stream",
          "name": "stdout",
          "text": [
            "Requirement already satisfied: NLTK in /usr/local/lib/python3.10/dist-packages (3.8.1)\n",
            "Requirement already satisfied: click in /usr/local/lib/python3.10/dist-packages (from NLTK) (8.1.7)\n",
            "Requirement already satisfied: joblib in /usr/local/lib/python3.10/dist-packages (from NLTK) (1.3.2)\n",
            "Requirement already satisfied: regex>=2021.8.3 in /usr/local/lib/python3.10/dist-packages (from NLTK) (2023.6.3)\n",
            "Requirement already satisfied: tqdm in /usr/local/lib/python3.10/dist-packages (from NLTK) (4.66.1)\n",
            "Collecting Arabic-Stopwords\n",
            "  Downloading Arabic_Stopwords-0.4.3-py3-none-any.whl (360 kB)\n",
            "\u001b[2K     \u001b[90m━━━━━━━━━━━━━━━━━━━━━━━━━━━━━━━━━━━━━━━━\u001b[0m \u001b[32m360.5/360.5 kB\u001b[0m \u001b[31m2.4 MB/s\u001b[0m eta \u001b[36m0:00:00\u001b[0m\n",
            "\u001b[?25hCollecting pyarabic>=0.6.2 (from Arabic-Stopwords)\n",
            "  Downloading PyArabic-0.6.15-py3-none-any.whl (126 kB)\n",
            "\u001b[2K     \u001b[90m━━━━━━━━━━━━━━━━━━━━━━━━━━━━━━━━━━━━━━━━\u001b[0m \u001b[32m126.4/126.4 kB\u001b[0m \u001b[31m4.6 MB/s\u001b[0m eta \u001b[36m0:00:00\u001b[0m\n",
            "\u001b[?25hRequirement already satisfied: six>=1.14.0 in /usr/local/lib/python3.10/dist-packages (from pyarabic>=0.6.2->Arabic-Stopwords) (1.16.0)\n",
            "Installing collected packages: pyarabic, Arabic-Stopwords\n",
            "Successfully installed Arabic-Stopwords-0.4.3 pyarabic-0.6.15\n",
            "Collecting clean-text\n",
            "  Downloading clean_text-0.6.0-py3-none-any.whl (11 kB)\n",
            "Collecting emoji<2.0.0,>=1.0.0 (from clean-text)\n",
            "  Downloading emoji-1.7.0.tar.gz (175 kB)\n",
            "\u001b[2K     \u001b[90m━━━━━━━━━━━━━━━━━━━━━━━━━━━━━━━━━━━━━━━━\u001b[0m \u001b[32m175.4/175.4 kB\u001b[0m \u001b[31m2.6 MB/s\u001b[0m eta \u001b[36m0:00:00\u001b[0m\n",
            "\u001b[?25h  Preparing metadata (setup.py) ... \u001b[?25l\u001b[?25hdone\n",
            "Collecting ftfy<7.0,>=6.0 (from clean-text)\n",
            "  Downloading ftfy-6.1.3-py3-none-any.whl (53 kB)\n",
            "\u001b[2K     \u001b[90m━━━━━━━━━━━━━━━━━━━━━━━━━━━━━━━━━━━━━━━━\u001b[0m \u001b[32m53.4/53.4 kB\u001b[0m \u001b[31m7.6 MB/s\u001b[0m eta \u001b[36m0:00:00\u001b[0m\n",
            "\u001b[?25hRequirement already satisfied: wcwidth<0.3.0,>=0.2.12 in /usr/local/lib/python3.10/dist-packages (from ftfy<7.0,>=6.0->clean-text) (0.2.12)\n",
            "Building wheels for collected packages: emoji\n",
            "  Building wheel for emoji (setup.py) ... \u001b[?25l\u001b[?25hdone\n",
            "  Created wheel for emoji: filename=emoji-1.7.0-py3-none-any.whl size=171033 sha256=91d25dc74264d1bc6d02c1a4e8109a00e68b0333a402bf0b26b83794eab45424\n",
            "  Stored in directory: /root/.cache/pip/wheels/31/8a/8c/315c9e5d7773f74b33d5ed33f075b49c6eaeb7cedbb86e2cf8\n",
            "Successfully built emoji\n",
            "Installing collected packages: emoji, ftfy, clean-text\n",
            "Successfully installed clean-text-0.6.0 emoji-1.7.0 ftfy-6.1.3\n",
            "Collecting demoji\n",
            "  Downloading demoji-1.1.0-py3-none-any.whl (42 kB)\n",
            "\u001b[2K     \u001b[90m━━━━━━━━━━━━━━━━━━━━━━━━━━━━━━━━━━━━━━━━\u001b[0m \u001b[32m42.9/42.9 kB\u001b[0m \u001b[31m1.3 MB/s\u001b[0m eta \u001b[36m0:00:00\u001b[0m\n",
            "\u001b[?25hInstalling collected packages: demoji\n",
            "Successfully installed demoji-1.1.0\n"
          ]
        }
      ],
      "source": [
        "%pip install NLTK\n",
        "\n",
        "%pip install Arabic-Stopwords\n",
        "\n",
        "%pip install clean-text\n",
        "\n",
        "%pip install demoji"
      ]
    },
    {
      "cell_type": "code",
      "execution_count": null,
      "metadata": {
        "colab": {
          "base_uri": "https://localhost:8080/"
        },
        "id": "2i6xGgD9kg2D",
        "outputId": "cf290694-9311-4523-f323-ad49991a7ffb"
      },
      "outputs": [
        {
          "output_type": "stream",
          "name": "stderr",
          "text": [
            "[nltk_data] Downloading package punkt to /root/nltk_data...\n",
            "[nltk_data]   Package punkt is already up-to-date!\n",
            "[nltk_data] Downloading package stopwords to /root/nltk_data...\n",
            "[nltk_data]   Package stopwords is already up-to-date!\n"
          ]
        },
        {
          "output_type": "execute_result",
          "data": {
            "text/plain": [
              "True"
            ]
          },
          "metadata": {},
          "execution_count": 23
        }
      ],
      "source": [
        "from nltk import word_tokenize\n",
        "from nltk import sent_tokenize\n",
        "#import arabicstopwords.arabicstopwords as stp\n",
        "from nltk.corpus import stopwords\n",
        "#from cleantext import clean\n",
        "from nltk.stem import ISRIStemmer\n",
        "import pandas as pd\n",
        "import re\n",
        "import string\n",
        "import sys\n",
        "#import demoji\n",
        "from sklearn.feature_extraction.text import TfidfVectorizer\n",
        "import nltk\n",
        "\n",
        "from keras.models import Sequential\n",
        "from keras.layers import Embedding, LSTM, Dense, Dropout\n",
        "from keras.preprocessing.text import Tokenizer\n",
        "from keras.preprocessing.sequence import pad_sequences\n",
        "from keras.utils import to_categorical\n",
        "from sklearn.model_selection import train_test_split\n",
        "from sklearn.preprocessing import LabelEncoder\n",
        "from keras.callbacks import EarlyStopping\n",
        "from nltk.corpus import stopwords\n",
        "from keras.models import Sequential\n",
        "from keras.layers import Embedding, LSTM, Dense, Dropout\n",
        "from keras.preprocessing.text import Tokenizer\n",
        "from keras.preprocessing.sequence import pad_sequences\n",
        "from keras.utils import to_categorical\n",
        "from sklearn.model_selection import train_test_split\n",
        "from sklearn.preprocessing import LabelEncoder\n",
        "from keras.callbacks import EarlyStopping\n",
        "import pandas as pd\n",
        "import re\n",
        "#import emoji\n",
        "from nltk.corpus import stopwords\n",
        "import numpy as np\n",
        "import tensorflow as tf\n",
        "from keras.models import Model\n",
        "from keras.layers import Input, Embedding, GlobalAveragePooling1D, Dense, Dropout\n",
        "from keras.callbacks import EarlyStopping\n",
        "import numpy as np\n",
        "from keras.callbacks import LearningRateScheduler\n",
        "from nltk.corpus import stopwords\n",
        "from keras.models import Sequential\n",
        "from keras.layers import Embedding, LSTM, Dense, Dropout\n",
        "from keras.preprocessing.text import Tokenizer\n",
        "from keras.preprocessing.sequence import pad_sequences\n",
        "from keras.utils import to_categorical\n",
        "from sklearn.model_selection import train_test_split\n",
        "from sklearn.preprocessing import LabelEncoder\n",
        "from keras.callbacks import EarlyStopping\n",
        "from keras.preprocessing.text import Tokenizer\n",
        "from keras.preprocessing.sequence import pad_sequences\n",
        "from keras.models import Sequential\n",
        "from keras.layers import Embedding, LSTM, Dense, Dropout\n",
        "from keras.preprocessing.text import Tokenizer\n",
        "from keras.preprocessing.sequence import pad_sequences\n",
        "from keras.utils import to_categorical\n",
        "from sklearn.model_selection import train_test_split\n",
        "from sklearn.preprocessing import LabelEncoder\n",
        "from keras.callbacks import EarlyStopping\n",
        "\n",
        "nltk.download('punkt')\n",
        "nltk.download('stopwords')"
      ]
    },
    {
      "cell_type": "code",
      "execution_count": null,
      "metadata": {
        "id": "8rNcJ8_3rGlW"
      },
      "outputs": [],
      "source": [
        "excel_data = pd.read_excel('train.xlsx')\n",
        "train_data = pd.DataFrame(excel_data,columns=['review_description', 'rating'])\n"
      ]
    },
    {
      "cell_type": "code",
      "execution_count": null,
      "metadata": {
        "id": "vRUUTih3sLqQ",
        "colab": {
          "base_uri": "https://localhost:8080/",
          "height": 428
        },
        "outputId": "0b28359f-3407-4140-92fc-352b34ee4af5"
      },
      "outputs": [
        {
          "output_type": "display_data",
          "data": {
            "text/plain": [
              "<Figure size 640x480 with 1 Axes>"
            ],
            "image/png": "[encoded data removed]"
          },
          "metadata": {}
        }
      ],
      "source": [
        "ax = train_data['rating'].value_counts().plot.pie(autopct='%.2f')\n",
        "_ = ax.set_title(\"Class Distribution\")"
      ]
    },
    {
      "cell_type": "code",
      "source": [
        "train_data.review_description.duplicated().sum()"
      ],
      "metadata": {
        "id": "p2L4Y5UNDH9C",
        "colab": {
          "base_uri": "https://localhost:8080/"
        },
        "outputId": "28742603-4aba-4df5-b65f-939f2e3c2e74"
      },
      "execution_count": null,
      "outputs": [
        {
          "output_type": "execute_result",
          "data": {
            "text/plain": [
              "726"
            ]
          },
          "metadata": {},
          "execution_count": 6
        }
      ]
    },
    {
      "cell_type": "code",
      "source": [
        "train_data.review_description.isnull().sum()"
      ],
      "metadata": {
        "colab": {
          "base_uri": "https://localhost:8080/"
        },
        "id": "FvqJiDqMj2x6",
        "outputId": "01a0667c-79f3-4466-ee1a-819e9157da88"
      },
      "execution_count": null,
      "outputs": [
        {
          "output_type": "execute_result",
          "data": {
            "text/plain": [
              "0"
            ]
          },
          "metadata": {},
          "execution_count": 8
        }
      ]
    },
    {
      "cell_type": "code",
      "source": [
        "train_data.drop(train_data[train_data.review_description.duplicated() == True].index, axis = 0, inplace = True)\n"
      ],
      "metadata": {
        "id": "3ubHGaPRDaEq"
      },
      "execution_count": null,
      "outputs": []
    },
    {
      "cell_type": "code",
      "source": [
        "train_data.review_description.duplicated().sum()"
      ],
      "metadata": {
        "id": "ZpTLtsZBDgQd",
        "colab": {
          "base_uri": "https://localhost:8080/"
        },
        "outputId": "ce2a3aab-da78-403c-b1d0-c490885982f1"
      },
      "execution_count": null,
      "outputs": [
        {
          "output_type": "execute_result",
          "data": {
            "text/plain": [
              "0"
            ]
          },
          "metadata": {},
          "execution_count": 10
        }
      ]
    },
    {
      "cell_type": "code",
      "source": [
        "train_data.review_description=train_data.review_description.astype(str)\n",
        "train_data.review_description=train_data.review_description.apply(lambda x:re.sub('[%s]' % re.escape(\"\"\"!\"#$%&'()*+,،-./:;<=>؟?@[\\]^_`{|}~\"\"\"), ' ', x))\n",
        "train_data.review_description=train_data.review_description.apply(lambda x:x.replace('؛',\"\", ))\n"
      ],
      "metadata": {
        "id": "nimJiASMDi8Z"
      },
      "execution_count": null,
      "outputs": []
    },
    {
      "cell_type": "code",
      "source": [
        "train_data.head(5)"
      ],
      "metadata": {
        "id": "q5aNKumgDuX5",
        "colab": {
          "base_uri": "https://localhost:8080/",
          "height": 206
        },
        "outputId": "8a0a6fb7-d41c-4600-baca-b1af22f8ff51"
      },
      "execution_count": null,
      "outputs": [
        {
          "output_type": "execute_result",
          "data": {
            "text/plain": [
              "                                  review_description  rating\n",
              "0  شركه زباله و سواقين بتبرشم و مفيش حتي رقم للشك...      -1\n",
              "1  خدمة الدفع عن طريق الكي نت توقفت عندي اصبح فقط...       1\n",
              "2  تطبيق غبي و جاري حذفه   عاملين اكواد خصم و لما...      -1\n",
              "3  فعلا تطبيق ممتاز بس لو فى امكانية يتيح لمستخدم...       1\n",
              "4  سيء جدا   اسعار رسوم التوصيل لا تمت للواقع ب ص...      -1"
            ],
            "text/html": [
              "\n",
              "  <div id=\"df-6d8b57a8-c7a9-4e93-9b97-e4fb18c822c2\" class=\"colab-df-container\">\n",
              "    <div>\n",
              "<style scoped>\n",
              "    .dataframe tbody tr th:only-of-type {\n",
              "        vertical-align: middle;\n",
              "    }\n",
              "\n",
              "    .dataframe tbody tr th {\n",
              "        vertical-align: top;\n",
              "    }\n",
              "\n",
              "    .dataframe thead th {\n",
              "        text-align: right;\n",
              "    }\n",
              "</style>\n",
              "<table border=\"1\" class=\"dataframe\">\n",
              "  <thead>\n",
              "    <tr style=\"text-align: right;\">\n",
              "      <th></th>\n",
              "      <th>review_description</th>\n",
              "      <th>rating</th>\n",
              "    </tr>\n",
              "  </thead>\n",
              "  <tbody>\n",
              "    <tr>\n",
              "      <th>0</th>\n",
              "      <td>شركه زباله و سواقين بتبرشم و مفيش حتي رقم للشك...</td>\n",
              "      <td>-1</td>\n",
              "    </tr>\n",
              "    <tr>\n",
              "      <th>1</th>\n",
              "      <td>خدمة الدفع عن طريق الكي نت توقفت عندي اصبح فقط...</td>\n",
              "      <td>1</td>\n",
              "    </tr>\n",
              "    <tr>\n",
              "      <th>2</th>\n",
              "      <td>تطبيق غبي و جاري حذفه   عاملين اكواد خصم و لما...</td>\n",
              "      <td>-1</td>\n",
              "    </tr>\n",
              "    <tr>\n",
              "      <th>3</th>\n",
              "      <td>فعلا تطبيق ممتاز بس لو فى امكانية يتيح لمستخدم...</td>\n",
              "      <td>1</td>\n",
              "    </tr>\n",
              "    <tr>\n",
              "      <th>4</th>\n",
              "      <td>سيء جدا   اسعار رسوم التوصيل لا تمت للواقع ب ص...</td>\n",
              "      <td>-1</td>\n",
              "    </tr>\n",
              "  </tbody>\n",
              "</table>\n",
              "</div>\n",
              "    <div class=\"colab-df-buttons\">\n",
              "\n",
              "  <div class=\"colab-df-container\">\n",
              "    <button class=\"colab-df-convert\" onclick=\"convertToInteractive('df-6d8b57a8-c7a9-4e93-9b97-e4fb18c822c2')\"\n",
              "            title=\"Convert this dataframe to an interactive table.\"\n",
              "            style=\"display:none;\">\n",
              "\n",
              "  <svg xmlns=\"http://www.w3.org/2000/svg\" height=\"24px\" viewBox=\"0 -960 960 960\">\n",
              "    <path d=\"M120-120v-720h720v720H120Zm60-500h600v-160H180v160Zm220 220h160v-160H400v160Zm0 220h160v-160H400v160ZM180-400h160v-160H180v160Zm440 0h160v-160H620v160ZM180-180h160v-160H180v160Zm440 0h160v-160H620v160Z\"/>\n",
              "  </svg>\n",
              "    </button>\n",
              "\n",
              "  <style>\n",
              "    .colab-df-container {\n",
              "      display:flex;\n",
              "      gap: 12px;\n",
              "    }\n",
              "\n",
              "    .colab-df-convert {\n",
              "      background-color: #E8F0FE;\n",
              "      border: none;\n",
              "      border-radius: 50%;\n",
              "      cursor: pointer;\n",
              "      display: none;\n",
              "      fill: #1967D2;\n",
              "      height: 32px;\n",
              "      padding: 0 0 0 0;\n",
              "      width: 32px;\n",
              "    }\n",
              "\n",
              "    .colab-df-convert:hover {\n",
              "      background-color: #E2EBFA;\n",
              "      box-shadow: 0px 1px 2px rgba(60, 64, 67, 0.3), 0px 1px 3px 1px rgba(60, 64, 67, 0.15);\n",
              "      fill: #174EA6;\n",
              "    }\n",
              "\n",
              "    .colab-df-buttons div {\n",
              "      margin-bottom: 4px;\n",
              "    }\n",
              "\n",
              "    [theme=dark] .colab-df-convert {\n",
              "      background-color: #3B4455;\n",
              "      fill: #D2E3FC;\n",
              "    }\n",
              "\n",
              "    [theme=dark] .colab-df-convert:hover {\n",
              "      background-color: #434B5C;\n",
              "      box-shadow: 0px 1px 3px 1px rgba(0, 0, 0, 0.15);\n",
              "      filter: drop-shadow(0px 1px 2px rgba(0, 0, 0, 0.3));\n",
              "      fill: #FFFFFF;\n",
              "    }\n",
              "  </style>\n",
              "\n",
              "    <script>\n",
              "      const buttonEl =\n",
              "        document.querySelector('#df-6d8b57a8-c7a9-4e93-9b97-e4fb18c822c2 button.colab-df-convert');\n",
              "      buttonEl.style.display =\n",
              "        google.colab.kernel.accessAllowed ? 'block' : 'none';\n",
              "\n",
              "      async function convertToInteractive(key) {\n",
              "        const element = document.querySelector('#df-6d8b57a8-c7a9-4e93-9b97-e4fb18c822c2');\n",
              "        const dataTable =\n",
              "          await google.colab.kernel.invokeFunction('convertToInteractive',\n",
              "                                                    [key], {});\n",
              "        if (!dataTable) return;\n",
              "\n",
              "        const docLinkHtml = 'Like what you see? Visit the ' +\n",
              "          '<a target=\"_blank\" href=https://colab.research.google.com/notebooks/data_table.ipynb>data table notebook</a>'\n",
              "          + ' to learn more about interactive tables.';\n",
              "        element.innerHTML = '';\n",
              "        dataTable['output_type'] = 'display_data';\n",
              "        await google.colab.output.renderOutput(dataTable, element);\n",
              "        const docLink = document.createElement('div');\n",
              "        docLink.innerHTML = docLinkHtml;\n",
              "        element.appendChild(docLink);\n",
              "      }\n",
              "    </script>\n",
              "  </div>\n",
              "\n",
              "\n",
              "<div id=\"df-99e587bf-7a50-4ba0-bfc1-81b20a167a04\">\n",
              "  <button class=\"colab-df-quickchart\" onclick=\"quickchart('df-99e587bf-7a50-4ba0-bfc1-81b20a167a04')\"\n",
              "            title=\"Suggest charts\"\n",
              "            style=\"display:none;\">\n",
              "\n",
              "<svg xmlns=\"http://www.w3.org/2000/svg\" height=\"24px\"viewBox=\"0 0 24 24\"\n",
              "     width=\"24px\">\n",
              "    <g>\n",
              "        <path d=\"M19 3H5c-1.1 0-2 .9-2 2v14c0 1.1.9 2 2 2h14c1.1 0 2-.9 2-2V5c0-1.1-.9-2-2-2zM9 17H7v-7h2v7zm4 0h-2V7h2v10zm4 0h-2v-4h2v4z\"/>\n",
              "    </g>\n",
              "</svg>\n",
              "  </button>\n",
              "\n",
              "<style>\n",
              "  .colab-df-quickchart {\n",
              "      --bg-color: #E8F0FE;\n",
              "      --fill-color: #1967D2;\n",
              "      --hover-bg-color: #E2EBFA;\n",
              "      --hover-fill-color: #174EA6;\n",
              "      --disabled-fill-color: #AAA;\n",
              "      --disabled-bg-color: #DDD;\n",
              "  }\n",
              "\n",
              "  [theme=dark] .colab-df-quickchart {\n",
              "      --bg-color: #3B4455;\n",
              "      --fill-color: #D2E3FC;\n",
              "      --hover-bg-color: #434B5C;\n",
              "      --hover-fill-color: #FFFFFF;\n",
              "      --disabled-bg-color: #3B4455;\n",
              "      --disabled-fill-color: #666;\n",
              "  }\n",
              "\n",
              "  .colab-df-quickchart {\n",
              "    background-color: var(--bg-color);\n",
              "    border: none;\n",
              "    border-radius: 50%;\n",
              "    cursor: pointer;\n",
              "    display: none;\n",
              "    fill: var(--fill-color);\n",
              "    height: 32px;\n",
              "    padding: 0;\n",
              "    width: 32px;\n",
              "  }\n",
              "\n",
              "  .colab-df-quickchart:hover {\n",
              "    background-color: var(--hover-bg-color);\n",
              "    box-shadow: 0 1px 2px rgba(60, 64, 67, 0.3), 0 1px 3px 1px rgba(60, 64, 67, 0.15);\n",
              "    fill: var(--button-hover-fill-color);\n",
              "  }\n",
              "\n",
              "  .colab-df-quickchart-complete:disabled,\n",
              "  .colab-df-quickchart-complete:disabled:hover {\n",
              "    background-color: var(--disabled-bg-color);\n",
              "    fill: var(--disabled-fill-color);\n",
              "    box-shadow: none;\n",
              "  }\n",
              "\n",
              "  .colab-df-spinner {\n",
              "    border: 2px solid var(--fill-color);\n",
              "    border-color: transparent;\n",
              "    border-bottom-color: var(--fill-color);\n",
              "    animation:\n",
              "      spin 1s steps(1) infinite;\n",
              "  }\n",
              "\n",
              "  @keyframes spin {\n",
              "    0% {\n",
              "      border-color: transparent;\n",
              "      border-bottom-color: var(--fill-color);\n",
              "      border-left-color: var(--fill-color);\n",
              "    }\n",
              "    20% {\n",
              "      border-color: transparent;\n",
              "      border-left-color: var(--fill-color);\n",
              "      border-top-color: var(--fill-color);\n",
              "    }\n",
              "    30% {\n",
              "      border-color: transparent;\n",
              "      border-left-color: var(--fill-color);\n",
              "      border-top-color: var(--fill-color);\n",
              "      border-right-color: var(--fill-color);\n",
              "    }\n",
              "    40% {\n",
              "      border-color: transparent;\n",
              "      border-right-color: var(--fill-color);\n",
              "      border-top-color: var(--fill-color);\n",
              "    }\n",
              "    60% {\n",
              "      border-color: transparent;\n",
              "      border-right-color: var(--fill-color);\n",
              "    }\n",
              "    80% {\n",
              "      border-color: transparent;\n",
              "      border-right-color: var(--fill-color);\n",
              "      border-bottom-color: var(--fill-color);\n",
              "    }\n",
              "    90% {\n",
              "      border-color: transparent;\n",
              "      border-bottom-color: var(--fill-color);\n",
              "    }\n",
              "  }\n",
              "</style>\n",
              "\n",
              "  <script>\n",
              "    async function quickchart(key) {\n",
              "      const quickchartButtonEl =\n",
              "        document.querySelector('#' + key + ' button');\n",
              "      quickchartButtonEl.disabled = true;  // To prevent multiple clicks.\n",
              "      quickchartButtonEl.classList.add('colab-df-spinner');\n",
              "      try {\n",
              "        const charts = await google.colab.kernel.invokeFunction(\n",
              "            'suggestCharts', [key], {});\n",
              "      } catch (error) {\n",
              "        console.error('Error during call to suggestCharts:', error);\n",
              "      }\n",
              "      quickchartButtonEl.classList.remove('colab-df-spinner');\n",
              "      quickchartButtonEl.classList.add('colab-df-quickchart-complete');\n",
              "    }\n",
              "    (() => {\n",
              "      let quickchartButtonEl =\n",
              "        document.querySelector('#df-99e587bf-7a50-4ba0-bfc1-81b20a167a04 button');\n",
              "      quickchartButtonEl.style.display =\n",
              "        google.colab.kernel.accessAllowed ? 'block' : 'none';\n",
              "    })();\n",
              "  </script>\n",
              "</div>\n",
              "\n",
              "    </div>\n",
              "  </div>\n"
            ]
          },
          "metadata": {},
          "execution_count": 12
        }
      ]
    },
    {
      "cell_type": "code",
      "execution_count": null,
      "metadata": {
        "id": "g3QqdXG-Qe9l"
      },
      "outputs": [],
      "source": [
        "emojis = {\n",
        "    \"🙂\":\"يبتسم\",\n",
        "    \"😂\":\"يضحك\",\n",
        "    \"💔\":\"قلب حزين\",\n",
        "    \"🙂\":\"يبتسم\",\n",
        "    \"❤️\":\"حب\",\n",
        "    \"❤\":\"حب\",\n",
        "    \"😍\":\"حب\",\n",
        "    \"😭\":\"يبكي\",\n",
        "    \"😢\":\"حزن\",\n",
        "    \"😔\":\"حزن\",\n",
        "    \"♥\":\"حب\",\n",
        "    \"💜\":\"حب\",\n",
        "    \"😅\":\"يضحك\",\n",
        "    \"🙁\":\"حزين\",\n",
        "    \"💕\":\"حب\",\n",
        "    \"💙\":\"حب\",\n",
        "    \"😞\":\"حزين\",\n",
        "    \"😊\":\"سعادة\",\n",
        "    \"👏\":\"يصفق\",\n",
        "    \"👌\":\"احسنت\",\n",
        "    \"😴\":\"ينام\",\n",
        "    \"😀\":\"يضحك\",\n",
        "    \"😌\":\"حزين\",\n",
        "    \"🌹\":\"وردة\",\n",
        "    \"🙈\":\"حب\",\n",
        "    \"😄\":\"يضحك\",\n",
        "    \"😐\":\"محايد\",\n",
        "    \"✌\":\"منتصر\",\n",
        "    \"✨\":\"نجمه\",\n",
        "    \"🤔\":\"تفكير\",\n",
        "    \"😏\":\"يستهزء\",\n",
        "    \"😒\":\"يستهزء\",\n",
        "    \"🙄\":\"ملل\",\n",
        "    \"😕\":\"عصبية\",\n",
        "    \"😃\":\"يضحك\",\n",
        "    \"🌸\":\"وردة\",\n",
        "    \"😓\":\"حزن\",\n",
        "    \"💞\":\"حب\",\n",
        "    \"💗\":\"حب\",\n",
        "    \"😑\":\"منزعج\",\n",
        "    \"💭\":\"تفكير\",\n",
        "    \"😎\":\"ثقة\",\n",
        "    \"💛\":\"حب\",\n",
        "    \"😩\":\"حزين\",\n",
        "    \"💪\":\"عضلات\",\n",
        "    \"👍\":\"موافق\",\n",
        "    \"🙏🏻\":\"رجاء طلب\",\n",
        "    \"😳\":\"مصدوم\",\n",
        "    \"👏🏼\":\"تصفيق\",\n",
        "    \"🎶\":\"موسيقي\",\n",
        "    \"🌚\":\"صمت\",\n",
        "    \"💚\":\"حب\",\n",
        "    \"🙏\":\"رجاء طلب\",\n",
        "    \"💘\":\"حب\",\n",
        "    \"🍃\":\"سلام\",\n",
        "    \"☺\":\"يضحك\",\n",
        "    \"🐸\":\"ضفدع\",\n",
        "    \"😶\":\"مصدوم\",\n",
        "    \"✌️\":\"مرح\",\n",
        "    \"✋🏻\":\"توقف\",\n",
        "    \"😉\":\"غمزة\",\n",
        "    \"🌷\":\"حب\",\n",
        "    \"🙃\":\"مبتسم\",\n",
        "    \"😫\":\"حزين\",\n",
        "    \"😨\":\"مصدوم\",\n",
        "    \"🎼 \":\"موسيقي\",\n",
        "    \"🍁\":\"مرح\",\n",
        "    \"🍂\":\"مرح\",\n",
        "    \"💟\":\"حب\",\n",
        "    \"😪\":\"حزن\",\n",
        "    \"😆\":\"يضحك\",\n",
        "    \"😣\":\"استياء\",\n",
        "    \"☺️\":\"حب\",\n",
        "    \"😱\":\"كارثة\",\n",
        "    \"😁\":\"يضحك\",\n",
        "    \"😖\":\"استياء\",\n",
        "    \"🏃🏼\":\"يجري\",\n",
        "    \"😡\":\"غضب\",\n",
        "    \"🚶\":\"يسير\",\n",
        "    \"🤕\":\"مرض\",\n",
        "    \"‼️\":\"تعجب\",\n",
        "    \"🕊\":\"طائر\",\n",
        "    \"👌🏻\":\"احسنت\",\n",
        "    \"❣\":\"حب\",\n",
        "    \"🙊\":\"مصدوم\",\n",
        "    \"💃\":\"سعادة مرح\",\n",
        "    \"💃🏼\":\"سعادة مرح\",\n",
        "    \"😜\":\"مرح\",\n",
        "    \"👊\":\"ضربة\",\n",
        "    \"😟\":\"استياء\",\n",
        "    \"💖\":\"حب\",\n",
        "    \"😥\":\"حزن\",\n",
        "    \"🎻\":\"موسيقي\",\n",
        "    \"✒\":\"يكتب\",\n",
        "    \"🚶🏻\":\"يسير\",\n",
        "    \"💎\":\"الماظ\",\n",
        "    \"😷\":\"وباء مرض\",\n",
        "    \"☝\":\"واحد\",\n",
        "    \"🚬\":\"تدخين\",\n",
        "    \"💐\" : \"ورد\",\n",
        "    \"🌞\" : \"شمس\",\n",
        "    \"👆\" : \"الاول\",\n",
        "    \"⚠️\" :\"تحذير\",\n",
        "    \"🤗\" : \"احتواء\",\n",
        "    \"✖️\": \"غلط\",\n",
        "    \"📍\"  : \"مكان\",\n",
        "    \"👸\" : \"ملكه\",\n",
        "    \"👑\" : \"تاج\",\n",
        "    \"✔️\" : \"صح\",\n",
        "    \"💌\": \"قلب\",\n",
        "    \"😲\" : \"مندهش\",\n",
        "    \"💦\": \"ماء\",\n",
        "    \"🚫\" : \"خطا\",\n",
        "    \"👏🏻\" : \"برافو\",\n",
        "    \"🏊\" :\"يسبح\",\n",
        "    \"👍🏻\": \"تمام\",\n",
        "    \"⭕️\" :\"دائره كبيره\",\n",
        "    \"🎷\" : \"ساكسفون\",\n",
        "    \"👋\": \"تلويح باليد\",\n",
        "    \"✌🏼\": \"علامه النصر\",\n",
        "    \"🌝\":\"مبتسم\",\n",
        "    \"➿\"  : \"عقده مزدوجه\",\n",
        "    \"💪🏼\" : \"قوي\",\n",
        "    \"📩\":  \"تواصل معي\",\n",
        "    \"☕️\": \"قهوه\",\n",
        "    \"😧\" : \"قلق و صدمة\",\n",
        "    \"🗨\": \"رسالة\",\n",
        "    \"❗️\" :\"تعجب\",\n",
        "    \"🙆🏻\": \"اشاره موافقه\",\n",
        "    \"👯\" :\"اخوات\",\n",
        "    \"©\" :  \"رمز\",\n",
        "    \"👵🏽\" :\"سيده عجوزه\",\n",
        "    \"🐣\": \"كتكوت\",\n",
        "    \"🙌\": \"تشجيع\",\n",
        "    \"🙇\": \"شخص ينحني\",\n",
        "    \"👐🏽\":\"ايدي مفتوحه\",\n",
        "    \"👌🏽\": \"بالظبط\",\n",
        "    \"⁉️\" : \"استنكار\",\n",
        "    \"⚽️\": \"كوره\",\n",
        "    \"🕶\" :\"حب\",\n",
        "    \"🎈\" :\"بالون\",\n",
        "    \"🎀\":    \"ورده\",\n",
        "    \"💵\":  \"فلوس\",\n",
        "    \"😋\":  \"جائع\",\n",
        "    \"😛\":  \"يغيظ\",\n",
        "    \"😠\":  \"غاضب\",\n",
        "    \"✍🏻\":  \"يكتب\",\n",
        "    \"🌾\":  \"ارز\",\n",
        "    \"👣\":  \"اثر قدمين\",\n",
        "    \"❌\":\"رفض\",\n",
        "    \"🍟\":\"طعام\",\n",
        "    \"👬\":\"صداقة\",\n",
        "    \"🐰\":\"ارنب\",\n",
        "    \"☂\":\"مطر\",\n",
        "    \"⚜\":\"مملكة فرنسا\",\n",
        "    \"🐑\":\"خروف\",\n",
        "    \"🗣\":\"صوت مرتفع\",\n",
        "    \"👌🏼\":\"احسنت\",\n",
        "    \"☘\":\"مرح\",\n",
        "    \"😮\":\"صدمة\",\n",
        "    \"😦\":\"قلق\",\n",
        "    \"⭕\":\"الحق\",\n",
        "    \"✏️\":\"قلم\",\n",
        "    \"ℹ\":\"معلومات\",\n",
        "    \"🙍🏻\":\"رفض\",\n",
        "    \"⚪️\":\"نضارة نقاء\",\n",
        "    \"🐤\":\"حزن\",\n",
        "    \"💫\":\"مرح\",\n",
        "    \"💝\":\"حب\",\n",
        "    \"🍔\":\"طعام\",\n",
        "    \"❤︎\":\"حب\",\n",
        "    \"✈️\":\"سفر\",\n",
        "    \"🏃🏻‍♀️\":\"يسير\",\n",
        "    \"🍳\":\"ذكر\",\n",
        "    \"🎤\":\"مايك غناء\",\n",
        "    \"🎾\":\"كره\",\n",
        "    \"🐔\":\"دجاجة\",\n",
        "    \"🙋\":\"سؤال\",\n",
        "    \"📮\":\"بحر\",\n",
        "    \"💉\":\"دواء\",\n",
        "    \"🙏🏼\":\"رجاء طلب\",\n",
        "    \"💂🏿 \":\"حارس\",\n",
        "    \"🎬\":\"سينما\",\n",
        "    \"♦️\":\"مرح\",\n",
        "    \"💡\":\"قكرة\",\n",
        "    \"‼\":\"تعجب\",\n",
        "    \"👼\":\"طفل\",\n",
        "    \"🔑\":\"مفتاح\",\n",
        "    \"♥️\":\"حب\",\n",
        "    \"🕋\":\"كعبة\",\n",
        "    \"🐓\":\"دجاجة\",\n",
        "    \"💩\":\"معترض\",\n",
        "    \"👽\":\"فضائي\",\n",
        "    \"☔️\":\"مطر\",\n",
        "    \"🍷\":\"عصير\",\n",
        "    \"🌟\":\"نجمة\",\n",
        "    \"☁️\":\"سحب\",\n",
        "    \"👃\":\"معترض\",\n",
        "    \"🌺\":\"مرح\",\n",
        "    \"🔪\":\"سكينة\",\n",
        "    \"♨\":\"سخونية\",\n",
        "    \"👊🏼\":\"ضرب\",\n",
        "    \"✏\":\"قلم\",\n",
        "    \"🚶🏾‍♀️\":\"يسير\",\n",
        "    \"👊\":\"ضربة\",\n",
        "    \"◾️\":\"وقف\",\n",
        "    \"😚\":\"حب\",\n",
        "    \"🔸\":\"مرح\",\n",
        "    \"👎🏻\":\"لا يعجبني\",\n",
        "    \"👊🏽\":\"ضربة\",\n",
        "    \"😙\":\"حب\",\n",
        "    \"🎥\":\"تصوير\",\n",
        "    \"👉\":\"جذب انتباه\",\n",
        "    \"👏🏽\":\"يصفق\",\n",
        "    \"💪🏻\":\"عضلات\",\n",
        "    \"🏴\":\"اسود\",\n",
        "    \"🔥\":\"حريق\",\n",
        "    \"😬\":\"عدم الراحة\",\n",
        "    \"👊🏿\":\"يضرب\",\n",
        "    \"🌿\":\"ورقه شجره\",\n",
        "    \"✋🏼\":\"كف ايد\",\n",
        "    \"👐\":\"ايدي مفتوحه\",\n",
        "    \"☠️\":\"وجه مرعب\",\n",
        "    \"🎉\":\"يهنئ\",\n",
        "    \"🔕\" :\"صامت\",\n",
        "    \"😿\":\"وجه حزين\",\n",
        "    \"☹️\":\"وجه يائس\",\n",
        "    \"😘\" :\"حب\",\n",
        "    \"😰\" :\"خوف و حزن\",\n",
        "    \"🌼\":\"ورده\",\n",
        "    \"💋\":  \"بوسه\",\n",
        "    \"👇\":\"لاسفل\",\n",
        "    \"❣️\":\"حب\",\n",
        "    \"🎧\":\"سماعات\",\n",
        "    \"📝\":\"يكتب\",\n",
        "    \"😇\":\"دايخ\",\n",
        "    \"😈\":\"رعب\",\n",
        "    \"🏃\":\"يجري\",\n",
        "    \"✌🏻\":\"علامه النصر\",\n",
        "    \"🔫\":\"يضرب\",\n",
        "    \"❗️\":\"تعجب\",\n",
        "    \"👎\":\"غير موافق\",\n",
        "    \"🔐\":\"قفل\",\n",
        "    \"👈\":\"لليمين\",\n",
        "    \"™\":\"رمز\",\n",
        "    \"🚶🏽\":\"يتمشي\",\n",
        "    \"😯\":\"متفاجأ\",\n",
        "    \"✊\":\"يد مغلقه\",\n",
        "    \"😻\":\"اعجاب\",\n",
        "    \"🙉\" :\"قرد\",\n",
        "    \"👧\":\"طفله صغيره\",\n",
        "    \"🔴\":\"دائره حمراء\",\n",
        "    \"💪🏽\":\"قوه\",\n",
        "    \"💤\":\"ينام\",\n",
        "    \"👀\":\"ينظر\",\n",
        "    \"✍🏻\":\"يكتب\",\n",
        "    \"❄️\":\"تلج\",\n",
        "    \"💀\":\"رعب\",\n",
        "    \"😤\":\"وجه عابس\",\n",
        "    \"🖋\":\"قلم\",\n",
        "    \"🎩\":\"كاب\",\n",
        "    \"☕️\":\"قهوه\",\n",
        "    \"😹\":\"ضحك\",\n",
        "    \"💓\":\"حب\",\n",
        "    \"☄️ \":\"نار\",\n",
        "    \"👻\":\"رعب\",\n",
        "    \"❎\":\"خطء\",\n",
        "    \"🤮\":\"حزن\",\n",
        "    '🏻':\"احمر\"\n",
        "    }\n",
        "\n",
        "emoticons_to_emoji = {\n",
        "    \":)\" : \"🙂\",\n",
        "    \":(\" : \"🙁\",\n",
        "    \"xD\" : \"😆\",\n",
        "    \":=(\": \"😭\",\n",
        "    \":'(\": \"😢\",\n",
        "    \":'‑(\": \"😢\",\n",
        "    \"XD\" : \"😂\",\n",
        "    \":D\" : \"🙂\",\n",
        "    \"♬\" : \"موسيقي\",\n",
        "    \"♡\" : \"❤\",\n",
        "    \"☻\"  : \"🙂\",\n",
        "    }"
      ]
    },
    {
      "cell_type": "code",
      "source": [
        "diacritices = re.compile(\"\"\"\n",
        "                             ّ    | # Tashdid\n",
        "                             َ    | # Fatha\n",
        "                             ً    | # Tanwin Fath\n",
        "                             ُ    | # Damma\n",
        "                             ٌ    | # Tanwin Damm\n",
        "                             ِ    | # Kasra\n",
        "                             ٍ    | # Tanwin Kasr\n",
        "                             ْ    | # Sukun\n",
        "                             ـ     # Tatwil/Kashida\n",
        "\n",
        "                         \"\"\", re.VERBOSE)\n",
        "\n",
        "def normalize_text(text):\n",
        "  x=text\n",
        "  text = re.sub(\"[إأآا]\", \"ا\", text)\n",
        "  text = re.sub(\"ى\", \"ي\", text)\n",
        "  text = re.sub(\"ؤ\", \"ء\", text)\n",
        "  text = re.sub(\"ئ\", \"ء\", text)\n",
        "  text = re.sub(\"ة\", \"ه\", text)\n",
        "  text = re.sub(\"گ\", \"ك\", text)\n",
        "  if text=='':\n",
        "       text=x\n",
        "  return text\n",
        "\n",
        "\n",
        "def emojiTextTransform(text):\n",
        "    cleantext = re.sub(r'[^\\w\\s]', ' ', text)\n",
        "    emojistext = []\n",
        "\n",
        "    for char in text:\n",
        "        if char in emojis:\n",
        "            emojistext.append(emojis[char])\n",
        "\n",
        "    return cleantext + \" \".join(emojistext)\n",
        "def remove_redundant_spaces_number(text):\n",
        "    text=re.sub(r'\\b\\d+\\b', '', text)\n",
        "    text = re.sub('[\\u0660-\\u0669]', '', text)\n",
        "    text=re.sub(' +', ' ', text)\n",
        "    text = re.sub(diacritices, '', text)\n",
        "    return text\n",
        "\n",
        "def remove_repeated_words_with_order(text):\n",
        "    words = text.split()\n",
        "    unique_words = []\n",
        "    seen_words = set()\n",
        "\n",
        "    for word in words:\n",
        "        if word not in seen_words:\n",
        "            unique_words.append(word)\n",
        "            seen_words.add(word)\n",
        "\n",
        "    cleaned_text = ' '.join(unique_words)\n",
        "    return cleaned_text\n",
        "\n",
        "def remove_repeating_chars(text):\n",
        "    text = re.sub(r'(.)\\1+', r'\\1', text)\n",
        "    return text\n",
        "\n"
      ],
      "metadata": {
        "id": "7MS4FtIFD77X"
      },
      "execution_count": null,
      "outputs": []
    },
    {
      "cell_type": "code",
      "source": [
        "train_data['review_description'] = train_data['review_description'].apply(emojiTextTransform)\n",
        "train_data['review_description'] = train_data['review_description'].apply(normalize_text)\n",
        "train_data['review_description'] = train_data['review_description'].apply(remove_repeating_chars)\n",
        "train_data['review_description'] = train_data['review_description'].apply(remove_repeated_words_with_order)\n",
        "train_data['review_description'] = train_data['review_description'].apply(remove_redundant_spaces_number)\n"
      ],
      "metadata": {
        "id": "sTdsoc0QFdMH"
      },
      "execution_count": null,
      "outputs": []
    },
    {
      "cell_type": "markdown",
      "source": [
        "try approach for solving imbalance data by removing zero class\n",
        "\n"
      ],
      "metadata": {
        "id": "9dqwdGziGTi7"
      }
    },
    {
      "cell_type": "code",
      "source": [
        "import numpy as np\n",
        "\n",
        "def encoding_for_two_classes__handle_imbalance(Y):\n",
        "    encod = []\n",
        "    for i in Y:\n",
        "        if i == -1:\n",
        "            encod.append(np.array([1, 0]))\n",
        "        elif i == 1:\n",
        "            encod.append(np.array([0, 1]))\n",
        "    y_train = np.array(encod)\n",
        "    return y_train\n",
        "\n",
        "\n",
        "\n",
        "def encoding_for_three_classes__imbalance(Y):\n",
        "    encod = []\n",
        "    for i in Y:\n",
        "        if i == -1:\n",
        "            encod.append(np.array([1,0,0 ]))\n",
        "        elif i == 0:\n",
        "            encod.append(np.array([0,1,0]))\n",
        "        elif i == 1:\n",
        "            encod.append(np.array([0,0,1]))\n",
        "    y_train = np.array(encod)\n",
        "    return y_train\n"
      ],
      "metadata": {
        "id": "XEODkSgkGFy0"
      },
      "execution_count": null,
      "outputs": []
    },
    {
      "cell_type": "code",
      "source": [
        "print(len(train_data))"
      ],
      "metadata": {
        "colab": {
          "base_uri": "https://localhost:8080/"
        },
        "id": "Rxpj8oFmISCS",
        "outputId": "662d1126-873b-4a81-afe8-55cfbf2b4095"
      },
      "execution_count": null,
      "outputs": [
        {
          "output_type": "stream",
          "name": "stdout",
          "text": [
            "31310\n"
          ]
        }
      ]
    },
    {
      "cell_type": "code",
      "source": [
        "x_train_with_imbalnce_with_3_classes=train_data[\"review_description\"]\n",
        "y_train_with_imbalnce_with_3_classes=encoding_for_three_classes__imbalance(train_data[\"rating\"])\n",
        "print(\" \",x_train_with_imbalnce_with_3_classes.shape)\n",
        "print(\"y_train_with_imbalnce_with_3_classes_shape\",y_train_with_imbalnce_with_3_classes.shape)"
      ],
      "metadata": {
        "colab": {
          "base_uri": "https://localhost:8080/"
        },
        "id": "EIf2PoLyHkwl",
        "outputId": "653fc6ec-aaba-4fc4-9c4b-5e1811c0f8b7"
      },
      "execution_count": null,
      "outputs": [
        {
          "output_type": "stream",
          "name": "stdout",
          "text": [
            "x_train_with_imbalnce_with_3_classes_shape (31310,)\n",
            "y_train_with_imbalnce_with_3_classes_shape (31310, 3)\n"
          ]
        }
      ]
    },
    {
      "cell_type": "code",
      "source": [
        "class_1 = train_data[train_data['rating'] == 1]\n",
        "class_minus_1 =train_data[train_data['rating'] == -1]\n",
        "da= pd.concat([class_1, class_minus_1])\n",
        "da = da.sample(frac=1, random_state=42).reset_index(drop=True)\n",
        "x_train_with_imbalnce_with_2_classes=da[\"review_description\"]\n",
        "y_train_with_imbalnce_with_2_classes=encoding_for_two_classes__handle_imbalance(da[\"rating\"])\n",
        "print(da[\"rating\"].value_counts())\n",
        "print(\"x_train_with_imbalnce_with_2_classes_shape\",x_train_with_imbalnce_with_2_classes.shape)\n",
        "print(\"y_train_with_imbalnce_with_2_classes_shape\",y_train_with_imbalnce_with_2_classes.shape)"
      ],
      "metadata": {
        "colab": {
          "base_uri": "https://localhost:8080/"
        },
        "id": "6osmsykbIWpS",
        "outputId": "dc2ff304-4cee-4b07-ac0c-70e02343bc02"
      },
      "execution_count": null,
      "outputs": [
        {
          "output_type": "stream",
          "name": "stdout",
          "text": [
            " 1    18655\n",
            "-1    11163\n",
            "Name: rating, dtype: int64\n",
            "x_train_with_imbalnce_with_2_classes_shape (29818,)\n",
            "y_train_with_imbalnce_with_2_classes_shape (29818, 2)\n"
          ]
        }
      ]
    },
    {
      "cell_type": "code",
      "source": [
        "# for experment three make balance between two classess  11000 sample from each class\n",
        "\n",
        "from sklearn.utils import resample\n",
        "class_1 = train_data[train_data['rating'] == 1]\n",
        "class_minus_1 = train_data[train_data['rating'] == -1]\n",
        "#class_3 = train_data[train_data['rating'] ==0]\n",
        "num_samples = 11000\n",
        "\n",
        "undersampled_class_1 = resample(class_1, replace=False, n_samples=num_samples, random_state=42)\n",
        "undersampled_class_minus_1 = resample(class_minus_1, replace=False, n_samples=num_samples, random_state=42)\n",
        "\n",
        "undersampled_df = pd.concat([undersampled_class_1, undersampled_class_minus_1])\n",
        "\n",
        "train_data_balance = undersampled_df.sample(frac=1, random_state=42).reset_index(drop=True)\n"
      ],
      "metadata": {
        "id": "8234ijTrlldz"
      },
      "execution_count": null,
      "outputs": []
    },
    {
      "cell_type": "code",
      "source": [
        "\n",
        "x_train_with_balnce_with_2_classes=train_data_balance[\"review_description\"]\n",
        "\n",
        "y_train_with_balnce_with_2_classes=encoding_for_two_classes__handle_imbalance(train_data_balance[\"rating\"])\n",
        "\n",
        "print(train_data_balance[\"rating\"].value_counts())\n",
        "\n",
        "print(\"x_train_with_balnce_with_2_classes.shape\",x_train_with_balnce_with_2_classes.shape)\n",
        "\n",
        "print(\"y_train_with_balnce_with_2_classes_shape\",y_train_with_balnce_with_2_classes.shape)"
      ],
      "metadata": {
        "colab": {
          "base_uri": "https://localhost:8080/"
        },
        "id": "8oxontbYJyOJ",
        "outputId": "d29451f2-2a50-40ec-fc0b-45c0d92d62b8"
      },
      "execution_count": null,
      "outputs": [
        {
          "output_type": "stream",
          "name": "stdout",
          "text": [
            "-1    11000\n",
            " 1    11000\n",
            "Name: rating, dtype: int64\n",
            "x_train_with_balnce_with_2_classes.shape (22000,)\n",
            "y_train_with_balnce_with_2_classes_shape (22000, 2)\n"
          ]
        }
      ]
    },
    {
      "cell_type": "code",
      "source": [
        "#enocding for two classses\n",
        "tokenizer = Tokenizer(num_words=10000)\n",
        "def encode_covert_to_numbers(x_ttrain):\n",
        "    tokenizer.fit_on_texts(x_ttrain)\n",
        "\n",
        "    X_train_seq_balance_2_classes = tokenizer.texts_to_sequences(x_ttrain)\n",
        "\n",
        "    X_train_pad_balance_with2_classes = pad_sequences(X_train_seq_balance_2_classes, maxlen=100)\n",
        "X_train_pad_balance_with2_classes=encode_covert_to_numbers(y_train_with_balnce_with_2_classes)"
      ],
      "metadata": {
        "id": "CHZgiPpfKxlJ"
      },
      "execution_count": null,
      "outputs": []
    },
    {
      "cell_type": "code",
      "source": [
        "def build_model(X_train_pad,Y_train,num_class):\n",
        "  model = Sequential()\n",
        "  model.add(Embedding(10000, 128, input_length=100))\n",
        "  model.add(LSTM(128) )\n",
        "  model.add(Dense(num_class, activation='softmax'))\n",
        "\n",
        "  model.compile(loss='categorical_crossentropy', optimizer='adam', metrics=['accuracy'])\n",
        "\n",
        "  early_stopping = EarlyStopping(monitor='val_loss', patience=5, restore_best_weights=True)\n",
        "\n",
        "  model.fit(X_train_pad, Y_train, validation_split=0.2, epochs=15, batch_size=32, callbacks=[early_stopping])\n",
        "  return model\n",
        "\n"
      ],
      "metadata": {
        "id": "tSHwRQ9wLxdN"
      },
      "execution_count": null,
      "outputs": []
    },
    {
      "cell_type": "code",
      "source": [
        "#experment1\n",
        "model=build_model(X_train_pad_balance_with2_classes,y_train_with_balnce_with_2_classes,2)"
      ],
      "metadata": {
        "colab": {
          "base_uri": "https://localhost:8080/"
        },
        "id": "DxLcQQEdMOtV",
        "outputId": "15e46b85-dda4-4ef3-f4db-ef65b4cb117f"
      },
      "execution_count": null,
      "outputs": [
        {
          "output_type": "stream",
          "name": "stdout",
          "text": [
            "Epoch 1/15\n",
            "550/550 [==============================] - 112s 198ms/step - loss: 0.3774 - accuracy: 0.8355 - val_loss: 0.2993 - val_accuracy: 0.8750\n",
            "Epoch 2/15\n",
            "550/550 [==============================] - 113s 206ms/step - loss: 0.2352 - accuracy: 0.9095 - val_loss: 0.3058 - val_accuracy: 0.8730\n",
            "Epoch 3/15\n",
            "550/550 [==============================] - 103s 188ms/step - loss: 0.1820 - accuracy: 0.9315 - val_loss: 0.3710 - val_accuracy: 0.8682\n",
            "Epoch 4/15\n",
            "550/550 [==============================] - 107s 194ms/step - loss: 0.1505 - accuracy: 0.9438 - val_loss: 0.3779 - val_accuracy: 0.8600\n",
            "Epoch 5/15\n",
            "550/550 [==============================] - 104s 190ms/step - loss: 0.1226 - accuracy: 0.9532 - val_loss: 0.4514 - val_accuracy: 0.8607\n",
            "Epoch 6/15\n",
            "550/550 [==============================] - 107s 195ms/step - loss: 0.1075 - accuracy: 0.9584 - val_loss: 0.5518 - val_accuracy: 0.8605\n"
          ]
        }
      ]
    },
    {
      "cell_type": "code",
      "source": [
        "\n",
        "# testing experiment 1 two classes imbalance\n",
        "test_data=pd.read_csv(\"/content/test _no_label.csv\")\n",
        "test_data['review_description'] = test_data['review_description'].apply(emojiTextTransform)\n",
        "test_data['review_description'] = test_data['review_description'].apply(normalize_text)\n",
        "test_data['review_description'] = test_data['review_description'].apply(remove_repeating_chars)\n",
        "test_data['review_description'] = test_data['review_description'].apply(remove_repeated_words_with_order)\n",
        "test_data['review_description'] = test_data['review_description'].apply(remove_redundant_spaces_number)\n",
        "\n",
        "x_test_with_balnce_with_2_classes=test_data['review_description']\n",
        "\n",
        "X_test_seq_balance_2_classes = tokenizer.texts_to_sequences(x_test_with_balnce_with_2_classes)\n",
        "X_test_pad_balance_2_classes  = pad_sequences(X_test_seq_balance_2_classes, maxlen=100)\n",
        "\n"
      ],
      "metadata": {
        "id": "oBgGi1aQNFpT"
      },
      "execution_count": null,
      "outputs": []
    },
    {
      "cell_type": "code",
      "source": [
        "prediction_of_experemit1_balance=model.predict(X_test_pad_balance_2_classes)\n",
        "print(prediction_of_experemit1_balance)"
      ],
      "metadata": {
        "colab": {
          "base_uri": "https://localhost:8080/"
        },
        "id": "kX6TsNWZPFKB",
        "outputId": "ad544db1-23d9-4061-83c3-3111e7fe0a74"
      },
      "execution_count": null,
      "outputs": [
        {
          "output_type": "stream",
          "name": "stdout",
          "text": [
            "32/32 [==============================] - 2s 46ms/step\n",
            "[[0.8428302  0.15716985]\n",
            " [0.05079281 0.9492072 ]\n",
            " [0.73175275 0.26824734]\n",
            " ...\n",
            " [0.33834505 0.661655  ]\n",
            " [0.9506584  0.0493416 ]\n",
            " [0.03047515 0.96952486]]\n"
          ]
        }
      ]
    },
    {
      "cell_type": "code",
      "source": [
        "predicton_balance_2_classess=np.argmax(prediction_of_experemit1_balance,1)\n",
        "for i in range(len(predicton_balance_2_classess)):\n",
        "  if predicton_balance_2_classess[i]==0:\n",
        "    predicton_balance_2_classess[i]=-1\n",
        "  if predicton_balance_2_classess[i]==1:\n",
        "        predicton_balance_2_classess[i]=1"
      ],
      "metadata": {
        "colab": {
          "base_uri": "https://localhost:8080/"
        },
        "id": "Q9iEEPObP200",
        "outputId": "241ac0ef-25d7-422d-c102-9a70be430823"
      },
      "execution_count": null,
      "outputs": [
        {
          "output_type": "stream",
          "name": "stdout",
          "text": [
            "-1\n"
          ]
        }
      ]
    },
    {
      "cell_type": "code",
      "source": [
        "ids=test_data[\"ID\"]\n",
        "submission=pd.DataFrame()\n",
        "submission['ID']=test_data['ID']\n",
        "submission['rating']=predicton_balance_2_classess\n",
        "submission.to_csv(\"LSTM.csv\",index = False)\n",
        "\n",
        "#67"
      ],
      "metadata": {
        "id": "nLPNxBEkUBCq"
      },
      "execution_count": null,
      "outputs": []
    },
    {
      "cell_type": "markdown",
      "source": [
        "trying another apporach of preprocessing get high accauarcy\n",
        "\n"
      ],
      "metadata": {
        "id": "MkzZ9Cn9jgoq"
      }
    },
    {
      "cell_type": "code",
      "source": [
        "train_data_with_different_preprocessing_its_get_high_acc=pd.read_excel(\"/content/train.xlsx\")\n"
      ],
      "metadata": {
        "id": "-ul35v-Sni9Z"
      },
      "execution_count": null,
      "outputs": []
    },
    {
      "cell_type": "code",
      "source": [
        "\n",
        "# another apporach for prerprocessing wtihout stemming  just claen text(remove_punctuation,remove_stop_words,remove_numbers_A/E)\n",
        "# and normlize it  handle if cell is null\n",
        "\n",
        "\n",
        "from nltk.corpus import stopwords\n",
        "nltk.download('stopwords')\n",
        "punctuations = '''`÷×؛<>_()*&^%][ـ،/:\"؟.,'{}~¦+|!”…“–ـ''' + string.punctuation\n",
        "stop_words = stopwords.words('arabic')\n",
        "\n",
        "def preprocess(text):\n",
        "    translator = str.maketrans('', '', punctuations)\n",
        "    text = text.translate(translator)\n",
        "\n",
        "\n",
        "    text = re.sub(\"[إأآا]\", \"ا\", text)\n",
        "    text = re.sub(\"ى\", \"ي\", text)\n",
        "    text = re.sub(\"ؤ\", \"ء\", text)\n",
        "    text = re.sub(\"ئ\", \"ء\", text)\n",
        "    text = re.sub(\"ة\", \"ه\", text)\n",
        "    text = re.sub(\"گ\", \"ك\", text)\n",
        "    text = re.sub(r'\\d+', '', text)\n",
        "    #text = re.sub(r'[^؀-ۿa-zA-Z\\s]', '', text)\n",
        "    text = re.sub(r'\\b\\d+\\b', '', text)\n",
        "    re.sub(r'[٠-٩]', '', text)\n",
        "\n",
        "\n",
        "    text = ' '.join(word for word in text.split() if word not in stop_words)\n",
        "    if text=='':\n",
        "        text=\"رودينا\"\n",
        "\n",
        "    return text\n",
        "\n"
      ],
      "metadata": {
        "colab": {
          "base_uri": "https://localhost:8080/"
        },
        "id": "Zq-ho1mzp0Zt",
        "outputId": "36207145-978f-4ee5-8085-806639306169"
      },
      "execution_count": null,
      "outputs": [
        {
          "output_type": "stream",
          "name": "stderr",
          "text": [
            "[nltk_data] Downloading package stopwords to /root/nltk_data...\n",
            "[nltk_data]   Package stopwords is already up-to-date!\n"
          ]
        }
      ]
    },
    {
      "cell_type": "code",
      "execution_count": null,
      "metadata": {
        "colab": {
          "base_uri": "https://localhost:8080/"
        },
        "id": "YMaP6uEZrtCo",
        "outputId": "811fd85a-cbb9-4e27-a31c-45d866c27f5c"
      },
      "outputs": [
        {
          "output_type": "stream",
          "name": "stdout",
          "text": [
            "-1    11000\n",
            " 1    11000\n",
            "Name: rating, dtype: int64\n",
            "22000\n",
            "22000\n",
            "(22000, 2)\n",
            "Epoch 1/15\n",
            "550/550 [==============================] - 24s 41ms/step - loss: 0.4151 - accuracy: 0.8102 - val_loss: 0.3472 - val_accuracy: 0.8573\n",
            "Epoch 2/15\n",
            "550/550 [==============================] - 7s 12ms/step - loss: 0.2592 - accuracy: 0.8982 - val_loss: 0.3561 - val_accuracy: 0.8552\n",
            "Epoch 3/15\n",
            "550/550 [==============================] - 6s 11ms/step - loss: 0.2042 - accuracy: 0.9209 - val_loss: 0.3891 - val_accuracy: 0.8505\n",
            "Epoch 4/15\n",
            "550/550 [==============================] - 5s 9ms/step - loss: 0.1712 - accuracy: 0.9317 - val_loss: 0.4513 - val_accuracy: 0.8477\n",
            "Epoch 5/15\n",
            "550/550 [==============================] - 5s 9ms/step - loss: 0.1461 - accuracy: 0.9411 - val_loss: 0.4955 - val_accuracy: 0.8409\n",
            "Epoch 6/15\n",
            "550/550 [==============================] - 5s 9ms/step - loss: 0.1275 - accuracy: 0.9463 - val_loss: 0.5963 - val_accuracy: 0.8436\n"
          ]
        },
        {
          "output_type": "execute_result",
          "data": {
            "text/plain": [
              "<keras.src.callbacks.History at 0x782a8196f640>"
            ]
          },
          "metadata": {},
          "execution_count": 76
        }
      ],
      "source": [
        "# the same as prevaious experiment  hande\n",
        "# 1 remove the class zero it is 4%\n",
        "# 2 trying to make balance between  two others calss 1 and -1  and run experiment\n",
        "# result its get 80% accuarcy\n",
        "\n",
        "from sklearn.utils import resample\n",
        "class_1 = train_data[train_data['rating'] == 1]\n",
        "class_minus_1 = train_data[train_data['rating'] == -1]\n",
        "#class_3 = train_data[train_data['rating'] ==0]\n",
        "num_samples = 11000\n",
        "\n",
        "undersampled_class_1 = resample(class_1, replace=False, n_samples=num_samples, random_state=42)\n",
        "undersampled_class_minus_1 = resample(class_minus_1, replace=False, n_samples=num_samples, random_state=42)\n",
        "\n",
        "undersampled_df = pd.concat([undersampled_class_1, undersampled_class_minus_1])\n",
        "\n",
        "train_data = undersampled_df.sample(frac=1, random_state=42).reset_index(drop=True)\n",
        "print(train_data[\"rating\"].value_counts())\n",
        "\n",
        "X_train=train_data[\"review_description\"].apply(preprocess)\n",
        "Y_train=train_data[\"rating\"]\n",
        "X_train.head(5)\n",
        "print(len(Y_train))\n",
        "print(len(X_train))\n",
        "import numpy as np\n",
        "encod=[]\n",
        "for i in Y_train:\n",
        "    if i==-1:\n",
        "        encod.append(np.array([1,0]))\n",
        "    if i==1:\n",
        "        encod.append(np.array([0,1]))\n",
        "\n",
        "    if i==2:\n",
        "        encod.append(np.array([0,0,1]))\n",
        "Y_train=encod\n",
        "Y_train=np.array(Y_train)\n",
        "\n",
        "print(Y_train.shape)\n",
        "\n",
        "\n",
        "\n",
        "\n",
        "tokenizer = Tokenizer(num_words=10000)\n",
        "tokenizer.fit_on_texts(X_train)\n",
        "\n",
        "X_train_seq = tokenizer.texts_to_sequences(X_train)\n",
        "X_train_pad = pad_sequences(X_train_seq, maxlen=100)\n",
        "\n",
        "\n",
        "model = Sequential()\n",
        "model.add(Embedding(10000, 128, input_length=100))\n",
        "model.add(LSTM(128) ) # Added dropout for regularization\n",
        "model.add(Dense(2, activation='softmax'))\n",
        "\n",
        "model.compile(loss='categorical_crossentropy', optimizer='adam', metrics=['accuracy'])\n",
        "\n",
        "# Define early stopping to prevent overfitting\n",
        "early_stopping = EarlyStopping(monitor='val_loss', patience=5, restore_best_weights=True)\n",
        "\n",
        "# Train the model\n",
        "model.fit(X_train_pad, Y_train, validation_split=0.2, epochs=15, batch_size=32, callbacks=[early_stopping])\n",
        "\n"
      ]
    },
    {
      "cell_type": "code",
      "source": [
        "# testing on balance with_two_classess\n",
        "test_data=pd.read_csv(\"/content/test _no_label.csv\")\n",
        "ids=test_data['ID']\n",
        "X_test=test_data['review_description']\n",
        "X_test_seq = tokenizer.texts_to_sequences(X_test)\n",
        "X_test_pad = pad_sequences(X_test_seq, maxlen=100)\n",
        "\n",
        "\n",
        "prediction = model.predict(X_test_pad)"
      ],
      "metadata": {
        "colab": {
          "base_uri": "https://localhost:8080/"
        },
        "id": "EWV6BE4YGA56",
        "outputId": "219dcea9-9a2e-42c0-ab74-52f37f025284"
      },
      "execution_count": null,
      "outputs": [
        {
          "output_type": "stream",
          "name": "stdout",
          "text": [
            "32/32 [==============================] - 1s 6ms/step\n"
          ]
        }
      ]
    },
    {
      "cell_type": "code",
      "execution_count": null,
      "metadata": {
        "colab": {
          "base_uri": "https://localhost:8080/"
        },
        "id": "482efpWUh6-W",
        "outputId": "7290aded-956f-4b24-c1dd-18cf000b8c74"
      },
      "outputs": [
        {
          "output_type": "stream",
          "name": "stdout",
          "text": [
            "[1 1 0 1 1 1 1 0 1 0 1 1 1 1 0 1 0 0 0 0 1 1 0 1 0 0 0 1 1 0 0 0 0 0 0 1 1\n",
            " 1 1 1 1 1 1 1 0 0 1 0 1 1 1 1 0 0 0 1 0 0 1 0 1 1 0 0 1 1 0 1 0 0 0 1 1 0\n",
            " 0 0 0 1 1 1 0 1 1 1 1 1 1 1 0 1 0 1 1 1 0 1 0 0 0 1 0 0 1 0 1 1 0 0 1 1 1\n",
            " 1 1 0 1 0 1 1 1 0 1 1 1 1 1 1 1 0 1 0 0 0 1 1 1 0 0 1 1 1 0 0 1 0 1 0 0 0\n",
            " 1 1 1 1 1 0 1 1 1 0 0 1 0 1 1 1 0 0 0 1 1 1 1 0 1 1 1 1 1 0 1 0 1 0 1 1 1\n",
            " 1 1 1 1 1 1 0 1 1 0 1 0 1 1 1 1 1 1 0 0 1 1 0 0 1 0 0 1 0 0 1 1 0 1 1 1 0\n",
            " 1 1 0 1 0 1 0 1 1 1 1 1 1 1 1 1 0 1 0 0 1 1 0 1 1 0 0 1 1 0 1 0 0 1 1 1 0\n",
            " 1 1 0 1 1 1 1 0 0 0 1 0 1 0 0 0 1 0 1 1 1 1 1 1 0 0 1 0 0 1 1 1 1 1 1 1 0\n",
            " 1 1 1 0 1 1 1 1 1 1 1 1 1 1 1 1 1 1 1 1 0 1 1 1 1 0 1 0 1 0 1 1 1 0 0 1 1\n",
            " 1 1 1 1 1 0 1 0 1 1 1 1 1 1 1 1 1 1 0 0 1 0 1 1 1 0 1 1 0 0 0 0 1 1 0 0 0\n",
            " 1 0 1 0 1 1 1 0 0 1 1 0 0 0 1 0 1 0 1 0 1 1 1 0 1 0 1 0 0 1 1 1 1 1 0 1 0\n",
            " 1 1 1 0 0 1 1 1 0 0 0 1 0 1 1 1 0 1 0 1 1 0 0 0 1 1 1 0 1 1 0 0 1 1 1 1 1\n",
            " 1 1 0 1 1 0 0 1 0 0 1 1 0 1 0 1 1 1 1 0 1 1 1 0 1 1 1 1 0 1 1 1 1 1 1 1 1\n",
            " 0 0 0 1 1 1 1 1 1 1 0 1 0 0 1 1 1 1 1 0 0 1 1 1 1 0 0 1 0 1 0 1 1 1 0 1 0\n",
            " 1 1 0 1 1 1 0 1 0 1 0 1 0 1 1 0 0 0 1 1 1 0 1 1 1 1 1 1 0 1 1 0 0 1 1 1 1\n",
            " 1 1 1 1 1 1 1 1 1 1 0 0 0 1 0 0 1 0 1 1 0 1 1 1 0 1 1 1 1 1 1 0 1 1 0 0 0\n",
            " 1 0 1 1 1 1 0 1 1 1 1 0 1 1 1 0 1 0 1 1 1 0 0 0 1 1 1 1 1 1 1 0 0 1 0 1 0\n",
            " 1 1 1 1 1 1 1 0 1 1 1 0 1 1 1 0 0 1 1 0 1 1 0 1 1 1 0 1 1 0 1 0 1 0 1 1 0\n",
            " 1 0 1 0 1 0 1 1 0 1 1 0 1 0 1 1 0 1 1 1 1 0 1 1 1 1 1 0 1 1 1 1 0 0 0 1 1\n",
            " 1 1 0 1 1 0 0 1 1 1 1 1 0 1 0 1 1 1 1 1 0 0 1 1 0 1 1 1 1 0 1 0 0 1 0 1 1\n",
            " 1 0 1 1 1 1 0 0 1 1 1 0 0 1 0 0 0 1 1 1 0 1 1 1 0 0 0 0 1 1 1 1 1 1 0 1 0\n",
            " 1 0 1 1 1 1 1 0 1 1 1 1 1 1 0 1 0 1 0 0 0 1 1 1 1 1 1 1 1 1 1 1 0 1 1 0 1\n",
            " 1 1 0 1 1 1 0 1 0 1 0 1 1 1 1 0 1 0 1 1 0 0 1 1 1 0 1 0 1 1 0 0 1 1 0 1 0\n",
            " 1 1 0 0 1 1 1 1 0 0 1 0 0 1 1 1 1 1 1 0 1 0 0 1 1 0 1 1 1 1 1 0 1 1 1 1 1\n",
            " 1 1 1 1 1 1 1 1 1 1 1 1 0 0 1 1 1 0 0 1 1 0 1 0 0 1 1 1 1 1 1 0 0 0 1 1 0\n",
            " 1 1 0 1 1 0 1 0 1 1 0 0 1 1 1 1 1 0 0 0 1 1 1 0 1 1 1 0 0 1 0 0 0 0 1 1 0\n",
            " 0 1 0 1 0 0 1 0 0 1 0 1 1 1 0 1 0 1 1 1 1 0 1 0 0 0 1 1 1 0 1 1 1 1 1 1 0\n",
            " 0]\n"
          ]
        }
      ],
      "source": [
        "prediction = np.argmax(prediction,axis = 1)\n",
        "print(prediction)"
      ]
    },
    {
      "cell_type": "code",
      "execution_count": null,
      "metadata": {
        "id": "npfxD32Erz_r"
      },
      "outputs": [],
      "source": [
        "for i in range(0,len(prediction)):\n",
        "    if prediction[i]==0:\n",
        "        prediction[i]=-1\n",
        "    else:\n",
        "        prediction[i]=1\n"
      ]
    },
    {
      "cell_type": "code",
      "execution_count": null,
      "metadata": {
        "id": "KqDNeo-SryQd"
      },
      "outputs": [],
      "source": [
        "submission=pd.DataFrame()\n",
        "submission['ID']=ids\n",
        "submission['rating']=prediction\n",
        "submission.to_csv('Aya.csv', index=False)"
      ]
    },
    {
      "cell_type": "code",
      "execution_count": null,
      "metadata": {
        "colab": {
          "base_uri": "https://localhost:8080/"
        },
        "id": "Ye4RdPASthVh",
        "outputId": "89f3a9e0-6670-4820-b0d1-d821e4d210c6"
      },
      "outputs": [
        {
          "output_type": "stream",
          "name": "stdout",
          "text": [
            " 1    19189\n",
            "-1    11340\n",
            "Name: rating, dtype: int64\n",
            "Epoch 1/15\n",
            "764/764 [==============================] - 28s 33ms/step - loss: 0.3732 - accuracy: 0.8401 - val_loss: 0.3188 - val_accuracy: 0.8700\n",
            "Epoch 2/15\n",
            "764/764 [==============================] - 9s 11ms/step - loss: 0.2442 - accuracy: 0.9068 - val_loss: 0.3285 - val_accuracy: 0.8664\n",
            "Epoch 3/15\n",
            "764/764 [==============================] - 7s 10ms/step - loss: 0.1926 - accuracy: 0.9279 - val_loss: 0.3953 - val_accuracy: 0.8651\n",
            "Epoch 4/15\n",
            "764/764 [==============================] - 7s 9ms/step - loss: 0.1589 - accuracy: 0.9411 - val_loss: 0.4310 - val_accuracy: 0.8556\n",
            "Epoch 5/15\n",
            "764/764 [==============================] - 7s 9ms/step - loss: 0.1409 - accuracy: 0.9466 - val_loss: 0.4916 - val_accuracy: 0.8524\n",
            "Epoch 6/15\n",
            "764/764 [==============================] - 6s 8ms/step - loss: 0.1252 - accuracy: 0.9523 - val_loss: 0.5409 - val_accuracy: 0.8479\n"
          ]
        },
        {
          "output_type": "execute_result",
          "data": {
            "text/plain": [
              "<keras.src.callbacks.History at 0x782a8238f520>"
            ]
          },
          "metadata": {},
          "execution_count": 37
        }
      ],
      "source": [
        "#another approch on two class positive & negative with imbalance get result best from prevaious one\n",
        "# resample on data\n",
        "\n",
        "train_data=pd.read_excel(\"/content/train.xlsx\")\n",
        "\n",
        "\n",
        "from sklearn.utils import resample\n",
        "\n",
        "\n",
        "class_1 = train_data[train_data['rating'] == 1]\n",
        "class_minus_1 = train_data[train_data['rating'] == -1]\n",
        "\n",
        "undersampled_df = pd.concat([class_1, class_minus_1])\n",
        "\n",
        "train_data = undersampled_df.sample(frac=1, random_state=42).reset_index(drop=True)\n",
        "\n",
        "print(train_data[\"rating\"].value_counts())\n",
        "\n",
        "X_train=train_data[\"review_description\"].apply(preprocess)\n",
        "Y_train=train_data[\"rating\"]\n",
        "\n",
        "import numpy as np\n",
        "encod=[]\n",
        "for i in Y_train:\n",
        "    if i==-1:\n",
        "        encod.append(np.array([1,0]))\n",
        "    if i==1:\n",
        "        encod.append(np.array([0,1]))\n",
        "\n",
        "    if i==2:\n",
        "        encod.append(np.array([0,0,1]))\n",
        "Y_train=encod\n",
        "Y_train=np.array(Y_train)\n",
        "\n",
        "\n",
        "\n",
        "\n",
        "tokenizer = Tokenizer(num_words=10000)\n",
        "tokenizer.fit_on_texts(X_train)\n",
        "\n",
        "X_train_seq = tokenizer.texts_to_sequences(X_train)\n",
        "X_train_pad = pad_sequences(X_train_seq, maxlen=100)\n",
        "\n",
        "\n",
        "model = Sequential()\n",
        "model.add(Embedding(10000, 128, input_length=100))\n",
        "model.add(LSTM(128) )\n",
        "model.add(Dense(2, activation='softmax'))\n",
        "\n",
        "model.compile(loss='categorical_crossentropy', optimizer='adam', metrics=['accuracy'])\n",
        "\n",
        "\n",
        "early_stopping = EarlyStopping(monitor='val_loss', patience=5, restore_best_weights=True)\n",
        "\n",
        "model.fit(X_train_pad, Y_train, validation_split=0.2, epochs=15, batch_size=32, callbacks=[early_stopping])\n",
        "\n"
      ]
    },
    {
      "cell_type": "code",
      "source": [
        "# testing\n",
        "test_data=pd.read_csv(\"/content/test _no_label.csv\")\n",
        "ids=test_data['ID']\n",
        "X_test=test_data['review_description']\n",
        "X_test_seq = tokenizer.texts_to_sequences(X_test)\n",
        "X_test_pad = pad_sequences(X_test_seq, maxlen=100)\n",
        "\n",
        "\n",
        "prediction = model.predict(X_test_pad)\n",
        "prediction = np.argmax(prediction,axis = 1)\n",
        "print(prediction)\n",
        "for i in range(0,len(prediction)):\n",
        "    if prediction[i]==0:\n",
        "        prediction[i]=-1\n",
        "    else:\n",
        "        prediction[i]=1\n",
        "\n",
        "submission=pd.DataFrame()\n",
        "submission['ID']=ids\n",
        "submission['rating']=prediction\n",
        "submission.to_csv('Aya_last.csv', index=False)"
      ],
      "metadata": {
        "id": "EFcR8NcQ9StF",
        "colab": {
          "base_uri": "https://localhost:8080/"
        },
        "outputId": "bbd6ac15-2ee2-4c4d-9d13-4f39502d212d"
      },
      "execution_count": null,
      "outputs": [
        {
          "output_type": "stream",
          "name": "stdout",
          "text": [
            "32/32 [==============================] - 0s 4ms/step\n",
            "[1 1 0 1 1 1 1 0 1 1 1 1 1 1 0 1 0 1 1 0 1 1 1 1 0 0 1 1 1 0 0 0 0 0 0 1 1\n",
            " 1 1 1 1 1 1 1 0 1 1 0 1 1 1 1 0 0 0 1 0 0 0 0 1 1 0 0 1 1 0 1 0 0 0 1 1 0\n",
            " 0 0 1 1 1 1 0 1 1 1 1 1 1 1 1 1 0 1 1 0 0 1 0 0 1 1 0 0 1 0 1 1 0 0 1 1 1\n",
            " 1 1 0 1 0 1 1 1 0 1 1 1 1 1 1 1 0 1 1 1 0 1 1 1 0 0 1 1 1 0 0 1 0 1 0 0 0\n",
            " 1 1 1 1 1 0 0 1 1 0 1 1 1 1 1 1 0 0 0 1 1 1 1 0 1 1 1 1 1 0 1 0 1 0 1 1 1\n",
            " 1 1 1 1 1 1 0 1 1 1 0 0 1 1 1 1 1 1 0 0 1 1 0 1 1 0 0 1 0 0 1 1 0 1 1 1 0\n",
            " 1 1 0 1 0 0 0 1 1 1 1 1 1 1 1 1 1 0 0 0 1 1 0 1 1 0 0 1 1 0 0 0 0 1 0 0 1\n",
            " 1 1 1 0 1 1 1 0 0 0 1 0 1 0 0 0 0 0 1 1 1 1 1 1 0 0 1 0 1 1 1 1 1 1 1 1 0\n",
            " 0 1 1 0 1 1 0 1 1 1 1 1 1 1 1 1 1 1 1 1 0 1 1 1 0 0 1 0 1 1 1 1 1 0 0 1 1\n",
            " 1 1 1 0 1 0 1 0 1 1 1 1 1 1 1 1 1 1 0 0 1 0 1 1 1 0 1 1 0 0 0 0 1 1 0 0 0\n",
            " 1 0 1 0 0 1 1 0 0 1 1 0 0 0 1 0 1 0 1 0 1 1 1 0 1 1 1 0 0 1 1 1 1 1 0 1 0\n",
            " 1 1 1 1 0 0 1 1 0 0 0 1 0 1 1 1 0 1 0 1 1 0 0 0 1 1 1 0 1 1 0 0 1 1 1 1 1\n",
            " 1 1 0 1 1 0 0 1 0 0 1 1 0 1 0 1 1 1 1 0 1 1 1 0 1 1 1 1 0 1 1 1 1 1 1 1 1\n",
            " 0 0 1 1 1 1 1 1 1 0 0 1 0 0 1 1 1 1 1 0 0 1 1 1 1 1 0 1 0 1 0 1 1 1 1 1 1\n",
            " 1 1 0 1 1 1 1 1 0 1 0 1 0 1 1 0 0 0 1 1 1 0 1 1 1 1 1 1 1 1 1 0 0 1 1 1 1\n",
            " 1 1 1 1 1 0 0 0 1 1 0 0 0 1 0 0 1 0 1 1 0 1 1 1 0 1 1 1 1 1 1 0 1 1 0 0 0\n",
            " 1 0 1 1 1 1 1 1 1 1 1 0 1 1 1 1 1 0 1 1 1 0 0 0 1 1 1 1 1 1 1 0 0 1 1 1 0\n",
            " 1 1 1 1 1 1 1 1 1 1 1 1 1 1 1 1 1 1 1 0 1 1 0 1 1 1 0 1 1 0 1 0 1 0 1 1 0\n",
            " 1 0 1 0 1 0 1 1 0 1 1 0 0 0 1 1 0 0 1 1 1 0 1 1 1 1 1 0 1 1 1 0 0 0 0 1 1\n",
            " 1 1 0 1 1 1 0 1 1 1 1 0 0 1 0 1 1 1 1 1 0 0 1 1 0 1 1 1 1 0 1 0 1 1 0 1 1\n",
            " 1 0 1 1 1 1 0 0 1 0 1 0 0 1 1 0 1 1 1 0 0 1 1 1 0 0 0 0 1 1 0 1 1 1 0 1 0\n",
            " 1 0 1 1 1 1 1 1 1 1 1 1 1 0 0 1 0 1 0 0 0 1 1 1 1 1 1 1 1 1 1 1 0 1 1 0 1\n",
            " 1 1 0 1 1 1 0 1 0 1 1 1 1 1 1 0 1 0 1 1 0 0 1 1 1 0 1 1 1 1 0 0 1 1 0 1 1\n",
            " 1 1 0 0 1 1 1 1 0 0 1 0 0 1 1 1 1 1 1 0 1 1 0 1 1 0 0 1 1 1 1 0 1 1 1 1 1\n",
            " 1 1 1 1 1 1 1 1 1 1 1 1 1 0 1 1 1 1 0 1 1 0 1 0 0 1 1 1 1 1 0 0 0 0 1 1 0\n",
            " 1 1 0 1 1 0 1 0 1 1 0 0 1 1 1 1 1 0 0 0 1 1 1 1 0 1 1 0 0 1 0 0 0 0 1 1 0\n",
            " 0 1 0 1 0 0 1 0 0 1 1 1 1 1 0 1 0 1 1 1 0 0 1 0 1 0 1 0 1 1 1 1 1 1 1 1 1\n",
            " 0]\n"
          ]
        }
      ]
    },
    {
      "cell_type": "code",
      "source": [
        "import tensorflow as tf\n",
        "from keras.models import Model\n",
        "from keras.layers import Input, Embedding, GlobalAveragePooling1D, Dense, Dropout\n",
        "from keras.callbacks import EarlyStopping\n",
        "\n",
        "\n",
        "\n",
        "train_data=pd.read_excel(\"/content/train.xlsx\")\n",
        "from nltk.corpus import stopwords\n",
        "nltk.download('stopwords')\n",
        "\n",
        "punctuations = '''`÷×؛<>_()*&^%][ـ،/:\"؟.,'{}~¦+|!”…“–ـ''' + string.punctuation\n",
        "stop_words = stopwords.words('arabic')\n",
        "def preprocess(text):\n",
        "    translator = str.maketrans('', '', punctuations)\n",
        "    text = text.translate(translator)\n",
        "\n",
        "\n",
        "    text = re.sub(\"[إأآا]\", \"ا\", text)\n",
        "    text = re.sub(\"ى\", \"ي\", text)\n",
        "    text = re.sub(\"ؤ\", \"ء\", text)\n",
        "    text = re.sub(\"ئ\", \"ء\", text)\n",
        "    text = re.sub(\"ة\", \"ه\", text)\n",
        "    text = re.sub(\"گ\", \"ك\", text)\n",
        "    text = re.sub(r'\\d+', '', text)\n",
        "    #text = re.sub(r'[^؀-ۿa-zA-Z\\s]', '', text)\n",
        "    text = re.sub(r'\\b\\d+\\b', '', text)\n",
        "\n",
        "\n",
        "    text = ' '.join(word for word in text.split() if word not in stop_words)\n",
        "    if text=='':\n",
        "        text=\"حناوى\"\n",
        "\n",
        "\n",
        "\n",
        "\n",
        "\n",
        "    return text\n",
        "\n",
        "from sklearn.utils import resample\n",
        "\n",
        "class_1 = train_data[train_data['rating'] == 1]\n",
        "class_minus_1 = train_data[train_data['rating'] == -1]\n",
        "\n",
        "undersampled_df = pd.concat([class_1, class_minus_1])\n",
        "\n",
        "train_data = undersampled_df.sample(frac=1, random_state=42).reset_index(drop=True)\n",
        "print(train_data[\"rating\"].value_counts())\n",
        "\n",
        "X_train=train_data[\"review_description\"].apply(preprocess)\n",
        "Y_train=train_data[\"rating\"]\n",
        "X_train.head(5)\n",
        "print(len(Y_train))\n",
        "print(len(X_train))\n",
        "import numpy as np\n",
        "encod=[]\n",
        "for i in Y_train:\n",
        "    if i==-1:\n",
        "        encod.append(np.array([1,0]))\n",
        "    if i==1:\n",
        "        encod.append(np.array([0,1]))\n",
        "\n",
        "    if i==2:\n",
        "        encod.append(np.array([0,0,1]))\n",
        "Y_train=encod\n",
        "Y_train=np.array(Y_train)\n",
        "\n",
        "print(Y_train.shape)\n",
        "\n",
        "\n",
        "tokenizer = Tokenizer(num_words=10000)\n",
        "tokenizer.fit_on_texts(X_train)\n",
        "\n",
        "X_train_seq = tokenizer.texts_to_sequences(X_train)\n",
        "X_train_pad = pad_sequences(X_train_seq, maxlen=100)\n",
        "\n",
        "\n",
        "\n",
        "import tensorflow as tf\n",
        "from keras.models import Model\n",
        "from keras.layers import Input, Embedding, GlobalAveragePooling1D, Dense, Dropout\n",
        "\n",
        "def transformer__classification_model(max_seq_length, vocab_size, num_heads=8, ff_dim=32, num_blocks=6, dropout_rate=0.1):\n",
        "    inputs = Input(shape=(max_seq_length,))\n",
        "\n",
        "    embedding_layer = Embedding(input_dim=vocab_size, output_dim=128)(inputs)\n",
        "\n",
        "    x = embedding_layer\n",
        "    for _ in range(num_blocks):\n",
        "        x = transformer_block(x, max_seq_length, num_heads, ff_dim, dropout_rate)\n",
        "\n",
        "    x = GlobalAveragePooling1D()(x)\n",
        "\n",
        "    # Dense layers for binary classification\n",
        "    x = Dense(64, activation='relu')(x)\n",
        "    x = Dropout(0.1)(x)\n",
        "    outputs = Dense(2, activation='softmax')(x)\n",
        "    model = Model(inputs=inputs, outputs=outputs)\n",
        "\n",
        "    return model\n",
        "\n",
        "def transformer_block(x, max_seq_length, num_heads, ff_dim, dropout_rate=0.1):\n",
        "    # Multi-Head Self Attention\n",
        "    multi_head_attention = tf.keras.layers.MultiHeadAttention(\n",
        "        num_heads=num_heads, key_dim=256, dropout=dropout_rate\n",
        "    )(x, x)\n",
        "\n",
        "    # Add & Norm\n",
        "    x = tf.keras.layers.Add()([x, multi_head_attention])\n",
        "    x = tf.keras.layers.LayerNormalization()(x)\n",
        "\n",
        "    # Feed Forward Part\n",
        "    ff = tf.keras.layers.Conv1D(filters=ff_dim, kernel_size=1, activation='relu')(x)\n",
        "    ff = tf.keras.layers.Dropout(dropout_rate)(ff)\n",
        "    ff = tf.keras.layers.Conv1D(filters=128, kernel_size=1)(ff)\n",
        "\n",
        "    # Add & Norm\n",
        "    x = tf.keras.layers.Add()([x, ff])\n",
        "    x = tf.keras.layers.LayerNormalization()(x)\n",
        "\n",
        "    return x\n",
        "\n",
        "# Example usage:\n",
        "max_seq_length = 100\n",
        "vocab_size = 10000\n",
        "num_heads = 4\n",
        "ff_dim = 20\n",
        "num_blocks = 3\n",
        "dropout_rate = 0.1\n",
        "\n",
        "model = transformer__classification_model(max_seq_length, vocab_size, num_heads, ff_dim, num_blocks, dropout_rate)\n",
        "\n",
        "model.compile(loss='categorical_crossentropy', optimizer='adam', metrics=['accuracy'])\n",
        "\n",
        "# Define early stopping to prevent overfitting\n",
        "early_stopping = EarlyStopping(monitor='val_loss', patience=5, restore_best_weights=True)\n",
        "\n",
        "# Train the model\n",
        "model.fit(X_train_pad, Y_train, validation_split=0.2, epochs=15, batch_size=32, callbacks=[early_stopping])\n",
        "\n"
      ],
      "metadata": {
        "id": "ALqarK0vb42i",
        "colab": {
          "base_uri": "https://localhost:8080/"
        },
        "outputId": "684018ff-7017-4dde-d14c-f8428c010e58"
      },
      "execution_count": null,
      "outputs": [
        {
          "output_type": "stream",
          "name": "stderr",
          "text": [
            "[nltk_data] Downloading package stopwords to /root/nltk_data...\n",
            "[nltk_data]   Package stopwords is already up-to-date!\n"
          ]
        },
        {
          "output_type": "stream",
          "name": "stdout",
          "text": [
            " 1    19189\n",
            "-1    11340\n",
            "Name: rating, dtype: int64\n",
            "30529\n",
            "30529\n",
            "(30529, 2)\n",
            "Epoch 1/15\n",
            "764/764 [==============================] - 52s 56ms/step - loss: 0.5661 - accuracy: 0.7158 - val_loss: 0.3914 - val_accuracy: 0.8426\n",
            "Epoch 2/15\n",
            "764/764 [==============================] - 29s 38ms/step - loss: 0.3587 - accuracy: 0.8596 - val_loss: 0.3634 - val_accuracy: 0.8534\n",
            "Epoch 3/15\n",
            "764/764 [==============================] - 28s 37ms/step - loss: 0.3175 - accuracy: 0.8804 - val_loss: 0.3864 - val_accuracy: 0.8600\n",
            "Epoch 4/15\n",
            "764/764 [==============================] - 27s 36ms/step - loss: 0.3555 - accuracy: 0.8802 - val_loss: 0.4206 - val_accuracy: 0.8582\n",
            "Epoch 5/15\n",
            "764/764 [==============================] - 27s 36ms/step - loss: 0.3415 - accuracy: 0.8889 - val_loss: 0.4283 - val_accuracy: 0.8472\n",
            "Epoch 6/15\n",
            "764/764 [==============================] - 27s 36ms/step - loss: 0.3413 - accuracy: 0.8890 - val_loss: 0.4265 - val_accuracy: 0.8449\n",
            "Epoch 7/15\n",
            "764/764 [==============================] - 28s 37ms/step - loss: 0.3373 - accuracy: 0.8929 - val_loss: 0.4591 - val_accuracy: 0.8465\n"
          ]
        },
        {
          "output_type": "execute_result",
          "data": {
            "text/plain": [
              "<keras.src.callbacks.History at 0x7f06f297d300>"
            ]
          },
          "metadata": {},
          "execution_count": 20
        }
      ]
    },
    {
      "cell_type": "code",
      "source": [
        "test_data=pd.read_csv(\"/content/test _no_label.csv\")\n",
        "ids=test_data['ID']\n",
        "X_test=test_data['review_description']\n",
        "X_test_seq = tokenizer.texts_to_sequences(X_test)\n",
        "X_test_pad = pad_sequences(X_test_seq, maxlen=100)\n",
        "\n",
        "\n",
        "prediction = model.predict(X_test_pad)\n",
        "prediction = np.argmax(prediction,axis = 1)\n",
        "#print(prediction)\n",
        "for i in range(0,len(prediction)):\n",
        "    if prediction[i]==0:\n",
        "        prediction[i]=-1\n",
        "    else:\n",
        "        prediction[i]=1\n",
        "\n",
        "submission=pd.DataFrame()\n",
        "submission['ID']=ids\n",
        "submission['rating']=prediction\n",
        "submission.to_csv('Aya_last_last.csv', index=False)"
      ],
      "metadata": {
        "colab": {
          "base_uri": "https://localhost:8080/"
        },
        "id": "69lUkokrlntG",
        "outputId": "dee7812d-b25f-4fcb-8a39-500e1e28dec5"
      },
      "execution_count": null,
      "outputs": [
        {
          "output_type": "stream",
          "name": "stdout",
          "text": [
            "32/32 [==============================] - 0s 6ms/step\n"
          ]
        }
      ]
    },
    {
      "cell_type": "code",
      "source": [
        "# experments on three classses\n",
        "x_train_with_imbalnce_with_3_classes=train_data[\"review_description\"].apply(preprocess)\n",
        "y_train_with_imbalnce_with_3_classes=encoding_for_three_classes__imbalance(train_data[\"rating\"])\n",
        "print(\"x_train_with_imbalnce_with_3_classes_shape\",x_train_with_imbalnce_with_3_classes.shape)\n",
        "print(\"y_train_with_imbalnce_with_3_classes_shape\",y_train_with_imbalnce_with_3_classes.shape)\n"
      ],
      "metadata": {
        "id": "piTdnMRloiqb",
        "colab": {
          "base_uri": "https://localhost:8080/"
        },
        "outputId": "31c55b82-5333-4717-9cc1-fa256dd6bb29"
      },
      "execution_count": null,
      "outputs": [
        {
          "output_type": "stream",
          "name": "stdout",
          "text": [
            "x_train_with_imbalnce_with_3_classes_shape (30529,)\n",
            "y_train_with_imbalnce_with_3_classes_shape (30529, 3)\n"
          ]
        }
      ]
    },
    {
      "cell_type": "code",
      "source": [
        "tokenizer = Tokenizer(num_words=10000)\n",
        "tokenizer.fit_on_texts(x_train_with_imbalnce_with_3_classes)\n",
        "\n",
        "X_train_seq3 = tokenizer.texts_to_sequences(x_train_with_imbalnce_with_3_classes)\n",
        "X_train_pad3 = pad_sequences(X_train_seq3, maxlen=100)\n",
        "\n"
      ],
      "metadata": {
        "id": "EXmMextQ24Nl"
      },
      "execution_count": null,
      "outputs": []
    },
    {
      "cell_type": "code",
      "source": [
        "# note validation making on 20% from data in each epoch\n",
        "\n",
        "from keras.models import Sequential\n",
        "from keras.layers import Embedding, LSTM, Conv1D, GlobalMaxPooling1D, Dense, Dropout\n",
        "from keras.optimizers import Adam\n",
        "from keras.callbacks import LearningRateScheduler, EarlyStopping\n",
        "import numpy as np\n",
        "\n",
        "\n",
        "\n",
        "\n",
        "\n",
        "max_words =10000\n",
        "embedding_dim = 100\n",
        "lstm_units = 50\n",
        "conv_filters = 100\n",
        "kernel_size = 3\n",
        "dense_units = 50\n",
        "num_classes = 3\n",
        "model = Sequential()\n",
        "model.add(Embedding(input_dim=max_words, output_dim=embedding_dim, input_length=100))\n",
        "\n",
        "model.add(LSTM(units=lstm_units, dropout=0.2, recurrent_dropout=0.2, return_sequences=True))\n",
        "\n",
        "model.add(Conv1D(filters=conv_filters, kernel_size=kernel_size, activation='relu'))\n",
        "\n",
        "model.add(GlobalMaxPooling1D())\n",
        "\n",
        "model.add(Dense(units=dense_units, activation='relu'))\n",
        "model.add(Dropout(0.2))\n",
        "\n",
        "model.add(Dense(units=num_classes, activation='softmax'))\n",
        "initial_learning_rate = 0.001\n",
        "optimizer = Adam(learning_rate=initial_learning_rate)\n",
        "model.compile(optimizer=optimizer, loss='categorical_crossentropy', metrics=['accuracy'])\n",
        "model.summary()\n",
        "batch_size = 150\n",
        "epochs = 15\n",
        "def lr_schedule(epoch, lr):\n",
        "    return lr * 0.9 ** epoch\n",
        "early_stopping = EarlyStopping(monitor='val_loss', patience=3, restore_best_weights=True)\n",
        "lr_scheduler = LearningRateScheduler(lr_schedule)\n",
        "history = model.fit(X_train_pad3, y_train_with_imbalnce_with_3_classes, validation_split=0.2, batch_size=batch_size, epochs=epochs, callbacks=[early_stopping, lr_scheduler])\n"
      ],
      "metadata": {
        "colab": {
          "base_uri": "https://localhost:8080/"
        },
        "id": "gYce7XmF1SkS",
        "outputId": "eca9b98a-0e66-49c5-94f4-c2d877a3d6d6"
      },
      "execution_count": null,
      "outputs": [
        {
          "output_type": "stream",
          "name": "stderr",
          "text": [
            "WARNING:tensorflow:Layer lstm_11 will not use cuDNN kernels since it doesn't meet the criteria. It will use a generic GPU kernel as fallback when running on GPU.\n"
          ]
        },
        {
          "output_type": "stream",
          "name": "stdout",
          "text": [
            "Model: \"sequential_15\"\n",
            "_________________________________________________________________\n",
            " Layer (type)                Output Shape              Param #   \n",
            "=================================================================\n",
            " embedding_14 (Embedding)    (None, 100, 100)          1000000   \n",
            "                                                                 \n",
            " lstm_11 (LSTM)              (None, 100, 50)           30200     \n",
            "                                                                 \n",
            " conv1d_6 (Conv1D)           (None, 98, 100)           15100     \n",
            "                                                                 \n",
            " global_max_pooling1d_6 (Gl  (None, 100)               0         \n",
            " obalMaxPooling1D)                                               \n",
            "                                                                 \n",
            " dense_18 (Dense)            (None, 50)                5050      \n",
            "                                                                 \n",
            " dropout_6 (Dropout)         (None, 50)                0         \n",
            "                                                                 \n",
            " dense_19 (Dense)            (None, 3)                 153       \n",
            "                                                                 \n",
            "=================================================================\n",
            "Total params: 1050503 (4.01 MB)\n",
            "Trainable params: 1050503 (4.01 MB)\n",
            "Non-trainable params: 0 (0.00 Byte)\n",
            "_________________________________________________________________\n",
            "Epoch 1/15\n",
            "163/163 [==============================] - 89s 526ms/step - loss: 0.5594 - accuracy: 0.7322 - val_loss: 0.3724 - val_accuracy: 0.8510 - lr: 0.0010\n",
            "Epoch 2/15\n",
            "163/163 [==============================] - 75s 464ms/step - loss: 0.2957 - accuracy: 0.8892 - val_loss: 0.3246 - val_accuracy: 0.8675 - lr: 9.0000e-04\n",
            "Epoch 3/15\n",
            "163/163 [==============================] - 62s 383ms/step - loss: 0.2338 - accuracy: 0.9173 - val_loss: 0.3443 - val_accuracy: 0.8636 - lr: 7.2900e-04\n",
            "Epoch 4/15\n",
            "163/163 [==============================] - 80s 494ms/step - loss: 0.2014 - accuracy: 0.9302 - val_loss: 0.3637 - val_accuracy: 0.8616 - lr: 5.3144e-04\n",
            "Epoch 5/15\n",
            "163/163 [==============================] - 62s 384ms/step - loss: 0.1820 - accuracy: 0.9375 - val_loss: 0.3912 - val_accuracy: 0.8600 - lr: 3.4868e-04\n"
          ]
        }
      ]
    },
    {
      "cell_type": "code",
      "source": [
        "import matplotlib.pyplot as plt\n",
        "\n",
        "plt.figure(figsize=(15, 5))\n",
        "\n",
        "  # Plot learning rate schedule\n",
        "plt.subplot(1, 3, 1)\n",
        "plt.plot(range(1, 11), [lr_schedule(epoch, initial_learning_rate) for epoch in range(10)], marker='o')\n",
        "plt.title('Learning Rate Schedule')\n",
        "plt.xlabel('Epoch')\n",
        "plt.ylabel('Learning Rate')\n",
        "\n",
        "# Plot training loss\n",
        "plt.subplot(1, 3, 2)\n",
        "plt.plot(history.history['loss'], label='Training Loss')\n",
        "plt.title('Training Loss')\n",
        "plt.xlabel('Epoch')\n",
        "plt.ylabel('Loss')\n",
        "\n",
        "# Plot validation loss\n",
        "plt.subplot(1, 3, 3)\n",
        "plt.plot(history.history['val_loss'], label='Validation Loss', color='orange')\n",
        "plt.title('Validation Loss')\n",
        "plt.xlabel('Epoch')\n",
        "plt.ylabel('Loss')\n",
        "\n",
        "plt.tight_layout()\n",
        "plt.show()\n"
      ],
      "metadata": {
        "colab": {
          "base_uri": "https://localhost:8080/",
          "height": 482
        },
        "id": "SiwjQZy_89Rg",
        "outputId": "6f89fb22-ce1b-4192-e2a5-af1b5a9eb8f4"
      },
      "execution_count": null,
      "outputs": [
        {
          "output_type": "display_data",
          "data": {
            "text/plain": [
              "<Figure size 1500x500 with 3 Axes>"
            ],
            "image/png": "[encoded data removed]"
          },
          "metadata": {}
        }
      ]
    },
    {
      "cell_type": "code",
      "source": [
        "test_data=pd.read_csv(\"/content/test _no_label.csv\")\n",
        "def test_function(model):\n",
        "    \"\"\"\n",
        "     np.argmax it searches for max probability  in vector of prediction and get index of it like  [0.7,0.2,0.3]\n",
        "     [0.7,0.2,0.3] the prediction of model the max prediction is 0.7 so it is convert to [1,0,0]\n",
        "     it is negative class according to onehotenocding\n",
        "      -1-->[1,0,0]-->0 index\n",
        "      0-->[0,1,0]--> 1 index\n",
        "      1-->[0,0,1]-->2 --> index\n",
        "\n",
        "    \"\"\"\n",
        "\n",
        "    x_test_with_balnce_with_3_classes=test_data['review_description'].apply(preprocess)\n",
        "    X_test_seq_balance_3_classes = tokenizer.texts_to_sequences(x_test_with_balnce_with_3_classes)\n",
        "    X_test_pad_balance_3_classes  = pad_sequences(X_test_seq_balance_3_classes, maxlen=100)\n",
        "    prediction = model.predict(X_test_pad_balance_3_classes)\n",
        "    print(prediction)\n",
        "    prediction = np.argmax(prediction,axis = 1)\n",
        "    print(prediction)\n",
        "    for i in range(0, len(prediction)):\n",
        "      if prediction[i] == 0:\n",
        "           prediction[i] = -1\n",
        "      elif prediction[i] == 2:\n",
        "           prediction[i] = 1\n",
        "      else:\n",
        "           prediction[i] = 0\n",
        "    submission=pd.DataFrame()\n",
        "    submission['ID']=test_data.ID\n",
        "    submission['rating']=prediction\n",
        "    submission.to_csv('submit3.csv', index=False)\n",
        "    print(prediction)\n",
        "\n",
        "\n",
        "\n",
        "\n",
        "\n",
        "\n",
        "\n",
        "\n",
        "\n"
      ],
      "metadata": {
        "id": "K8X4bte38dLU"
      },
      "execution_count": null,
      "outputs": []
    },
    {
      "cell_type": "code",
      "source": [
        "#testing\n",
        "test_function(model)"
      ],
      "metadata": {
        "colab": {
          "base_uri": "https://localhost:8080/"
        },
        "id": "BhqyKfl-_Rso",
        "outputId": "769f8697-e1be-4f3d-b366-24746c960c8a"
      },
      "execution_count": null,
      "outputs": [
        {
          "output_type": "stream",
          "name": "stdout",
          "text": [
            "32/32 [==============================] - 1s 29ms/step\n",
            "[[2.8201717e-01 1.0111830e-03 7.1697164e-01]\n",
            " [9.1122845e-03 2.8385612e-05 9.9085933e-01]\n",
            " [3.3323455e-01 1.5002987e-03 6.6526520e-01]\n",
            " ...\n",
            " [1.9987938e-01 1.9672788e-03 7.9815340e-01]\n",
            " [2.5580141e-01 1.7847759e-03 7.4241382e-01]\n",
            " [9.8397887e-01 4.0572872e-05 1.5980495e-02]]\n",
            "[2 2 2 2 2 2 0 0 2 2 2 2 2 0 0 2 0 0 2 0 2 2 2 2 0 0 2 2 2 0 2 0 0 0 0 2 2\n",
            " 2 2 2 2 2 2 2 2 0 2 0 2 2 2 2 0 0 0 2 0 0 0 0 2 2 0 0 2 2 0 2 0 0 0 2 2 0\n",
            " 0 0 0 0 2 2 2 2 2 2 2 2 2 2 2 2 2 2 2 2 0 2 0 0 0 2 0 0 0 0 2 2 0 0 2 2 2\n",
            " 2 2 0 2 0 2 2 2 0 2 2 2 2 2 2 2 0 2 2 2 0 2 2 2 0 0 2 2 2 0 0 2 0 2 0 0 0\n",
            " 2 2 2 2 2 0 0 2 2 0 2 2 2 2 2 2 0 0 0 2 2 2 2 0 2 2 2 2 2 0 2 0 0 2 2 2 2\n",
            " 2 2 2 2 2 2 0 2 2 0 2 0 2 2 2 2 2 2 0 0 2 2 0 2 2 0 0 2 2 0 2 2 0 2 2 2 0\n",
            " 0 2 0 2 0 0 0 2 2 2 2 2 2 2 0 2 0 2 0 0 0 2 0 2 2 0 0 2 2 0 2 0 0 2 0 2 2\n",
            " 2 2 2 0 2 2 2 0 0 0 2 0 2 0 0 0 0 0 2 2 2 2 2 2 0 0 0 0 2 2 0 2 2 2 2 2 2\n",
            " 2 2 2 0 0 2 0 2 2 2 2 2 2 2 2 2 2 2 2 2 0 0 2 2 0 0 2 0 2 2 2 2 2 0 0 2 2\n",
            " 2 2 2 2 2 0 2 0 2 2 2 2 2 2 2 2 2 2 0 0 2 0 2 2 2 0 0 2 0 0 0 0 2 2 0 0 0\n",
            " 2 0 2 0 2 2 2 0 0 2 2 0 0 0 2 2 2 2 2 0 2 2 2 0 2 2 2 0 0 2 2 2 2 2 2 2 0\n",
            " 0 2 2 2 0 0 2 2 0 0 0 2 0 2 2 0 0 2 0 2 2 0 0 0 2 2 2 0 2 2 0 0 2 2 2 2 2\n",
            " 2 2 0 2 2 0 0 2 0 0 2 2 0 2 0 2 2 2 2 0 2 2 2 0 2 2 2 2 0 2 2 2 2 2 2 2 2\n",
            " 0 2 2 2 2 2 2 2 2 0 0 2 0 0 2 2 2 2 2 0 0 2 2 2 2 2 0 2 0 2 0 2 2 2 2 2 2\n",
            " 2 2 0 2 2 2 2 2 0 2 0 2 0 2 2 0 0 0 2 2 2 0 2 2 2 2 2 2 2 2 2 0 0 2 0 2 2\n",
            " 2 2 2 2 2 0 0 0 2 2 0 0 0 2 0 0 2 0 2 2 0 2 2 2 0 0 2 2 2 2 2 0 2 2 0 0 2\n",
            " 2 0 2 2 2 2 2 2 2 0 2 0 2 2 2 0 2 0 2 2 2 0 0 0 2 2 2 2 2 2 2 0 0 2 2 2 0\n",
            " 2 2 2 2 2 2 2 2 2 2 2 0 2 2 2 2 2 2 2 2 2 2 0 2 2 2 0 2 2 0 2 0 2 2 2 2 0\n",
            " 0 0 2 0 2 0 2 2 0 2 0 0 0 0 2 2 0 2 2 2 0 0 2 2 2 2 2 0 2 0 2 2 0 2 0 2 2\n",
            " 2 2 0 2 2 2 0 2 2 2 2 0 0 2 0 2 0 2 0 2 0 0 2 2 0 2 0 2 2 0 2 0 2 2 0 2 2\n",
            " 2 0 2 2 2 2 0 2 2 0 2 0 0 2 0 0 0 2 2 0 0 2 2 2 0 0 0 0 2 2 2 2 2 2 0 2 0\n",
            " 2 0 2 2 2 2 2 0 2 2 0 2 2 0 0 2 0 2 2 0 0 0 2 2 2 2 2 2 2 2 2 2 0 2 2 0 2\n",
            " 0 2 0 2 2 2 0 2 0 2 2 2 2 2 2 0 2 0 2 2 0 0 2 2 2 0 0 2 2 2 2 0 2 0 0 2 2\n",
            " 2 2 0 0 2 2 2 2 0 0 2 0 0 2 2 2 2 2 2 2 2 0 0 2 2 0 2 2 2 2 2 0 2 2 2 2 2\n",
            " 0 2 2 2 2 2 2 2 2 2 2 2 2 0 2 2 2 2 0 2 2 0 2 0 2 2 2 2 0 2 0 0 0 0 2 2 2\n",
            " 2 2 0 2 2 0 2 0 2 2 0 0 2 2 2 2 2 0 0 0 2 2 2 2 2 2 2 0 0 2 0 0 0 0 2 2 0\n",
            " 0 2 0 2 2 0 2 0 0 2 2 2 2 2 2 2 0 2 2 2 2 0 2 0 2 0 2 0 2 2 2 2 2 2 0 2 2\n",
            " 0]\n",
            "[ 1  1  1  1  1  1 -1 -1  1  1  1  1  1 -1 -1  1 -1 -1  1 -1  1  1  1  1\n",
            " -1 -1  1  1  1 -1  1 -1 -1 -1 -1  1  1  1  1  1  1  1  1  1  1 -1  1 -1\n",
            "  1  1  1  1 -1 -1 -1  1 -1 -1 -1 -1  1  1 -1 -1  1  1 -1  1 -1 -1 -1  1\n",
            "  1 -1 -1 -1 -1 -1  1  1  1  1  1  1  1  1  1  1  1  1  1  1  1  1 -1  1\n",
            " -1 -1 -1  1 -1 -1 -1 -1  1  1 -1 -1  1  1  1  1  1 -1  1 -1  1  1  1 -1\n",
            "  1  1  1  1  1  1  1 -1  1  1  1 -1  1  1  1 -1 -1  1  1  1 -1 -1  1 -1\n",
            "  1 -1 -1 -1  1  1  1  1  1 -1 -1  1  1 -1  1  1  1  1  1  1 -1 -1 -1  1\n",
            "  1  1  1 -1  1  1  1  1  1 -1  1 -1 -1  1  1  1  1  1  1  1  1  1  1 -1\n",
            "  1  1 -1  1 -1  1  1  1  1  1  1 -1 -1  1  1 -1  1  1 -1 -1  1  1 -1  1\n",
            "  1 -1  1  1  1 -1 -1  1 -1  1 -1 -1 -1  1  1  1  1  1  1  1 -1  1 -1  1\n",
            " -1 -1 -1  1 -1  1  1 -1 -1  1  1 -1  1 -1 -1  1 -1  1  1  1  1  1 -1  1\n",
            "  1  1 -1 -1 -1  1 -1  1 -1 -1 -1 -1 -1  1  1  1  1  1  1 -1 -1 -1 -1  1\n",
            "  1 -1  1  1  1  1  1  1  1  1  1 -1 -1  1 -1  1  1  1  1  1  1  1  1  1\n",
            "  1  1  1  1 -1 -1  1  1 -1 -1  1 -1  1  1  1  1  1 -1 -1  1  1  1  1  1\n",
            "  1  1 -1  1 -1  1  1  1  1  1  1  1  1  1  1 -1 -1  1 -1  1  1  1 -1 -1\n",
            "  1 -1 -1 -1 -1  1  1 -1 -1 -1  1 -1  1 -1  1  1  1 -1 -1  1  1 -1 -1 -1\n",
            "  1  1  1  1  1 -1  1  1  1 -1  1  1  1 -1 -1  1  1  1  1  1  1  1 -1 -1\n",
            "  1  1  1 -1 -1  1  1 -1 -1 -1  1 -1  1  1 -1 -1  1 -1  1  1 -1 -1 -1  1\n",
            "  1  1 -1  1  1 -1 -1  1  1  1  1  1  1  1 -1  1  1 -1 -1  1 -1 -1  1  1\n",
            " -1  1 -1  1  1  1  1 -1  1  1  1 -1  1  1  1  1 -1  1  1  1  1  1  1  1\n",
            "  1 -1  1  1  1  1  1  1  1  1 -1 -1  1 -1 -1  1  1  1  1  1 -1 -1  1  1\n",
            "  1  1  1 -1  1 -1  1 -1  1  1  1  1  1  1  1  1 -1  1  1  1  1  1 -1  1\n",
            " -1  1 -1  1  1 -1 -1 -1  1  1  1 -1  1  1  1  1  1  1  1  1  1 -1 -1  1\n",
            " -1  1  1  1  1  1  1  1 -1 -1 -1  1  1 -1 -1 -1  1 -1 -1  1 -1  1  1 -1\n",
            "  1  1  1 -1 -1  1  1  1  1  1 -1  1  1 -1 -1  1  1 -1  1  1  1  1  1  1\n",
            "  1 -1  1 -1  1  1  1 -1  1 -1  1  1  1 -1 -1 -1  1  1  1  1  1  1  1 -1\n",
            " -1  1  1  1 -1  1  1  1  1  1  1  1  1  1  1  1 -1  1  1  1  1  1  1  1\n",
            "  1  1  1 -1  1  1  1 -1  1  1 -1  1 -1  1  1  1  1 -1 -1 -1  1 -1  1 -1\n",
            "  1  1 -1  1 -1 -1 -1 -1  1  1 -1  1  1  1 -1 -1  1  1  1  1  1 -1  1 -1\n",
            "  1  1 -1  1 -1  1  1  1  1 -1  1  1  1 -1  1  1  1  1 -1 -1  1 -1  1 -1\n",
            "  1 -1  1 -1 -1  1  1 -1  1 -1  1  1 -1  1 -1  1  1 -1  1  1  1 -1  1  1\n",
            "  1  1 -1  1  1 -1  1 -1 -1  1 -1 -1 -1  1  1 -1 -1  1  1  1 -1 -1 -1 -1\n",
            "  1  1  1  1  1  1 -1  1 -1  1 -1  1  1  1  1  1 -1  1  1 -1  1  1 -1 -1\n",
            "  1 -1  1  1 -1 -1 -1  1  1  1  1  1  1  1  1  1  1 -1  1  1 -1  1 -1  1\n",
            " -1  1  1  1 -1  1 -1  1  1  1  1  1  1 -1  1 -1  1  1 -1 -1  1  1  1 -1\n",
            " -1  1  1  1  1 -1  1 -1 -1  1  1  1  1 -1 -1  1  1  1  1 -1 -1  1 -1 -1\n",
            "  1  1  1  1  1  1  1  1 -1 -1  1  1 -1  1  1  1  1  1 -1  1  1  1  1  1\n",
            " -1  1  1  1  1  1  1  1  1  1  1  1  1 -1  1  1  1  1 -1  1  1 -1  1 -1\n",
            "  1  1  1  1 -1  1 -1 -1 -1 -1  1  1  1  1  1 -1  1  1 -1  1 -1  1  1 -1\n",
            " -1  1  1  1  1  1 -1 -1 -1  1  1  1  1  1  1  1 -1 -1  1 -1 -1 -1 -1  1\n",
            "  1 -1 -1  1 -1  1  1 -1  1 -1 -1  1  1  1  1  1  1  1 -1  1  1  1  1 -1\n",
            "  1 -1  1 -1  1 -1  1  1  1  1  1  1 -1  1  1 -1]\n"
          ]
        }
      ]
    },
    {
      "cell_type": "code",
      "source": [
        "from keras.models import Sequential\n",
        "from keras.layers import Embedding, SimpleRNN, Conv1D, GlobalMaxPooling1D, Dense, Dropout\n",
        "from keras.optimizers import Adam\n",
        "from keras.regularizers import l2\n",
        "from keras.callbacks import LearningRateScheduler, EarlyStopping\n",
        "import numpy as np\n",
        "\n",
        "model_rnn = Sequential()\n",
        "model_rnn.add(Embedding(10000, 128, input_length=100))\n",
        "model_rnn.add(SimpleRNN(50))\n",
        "model_rnn.add(Dense(3, activation='softmax'))\n",
        "\n",
        "initial_learning_rate = 0.001\n",
        "optimizer = Adam(learning_rate=initial_learning_rate)\n",
        "model_rnn.compile(optimizer=optimizer, loss='categorical_crossentropy', metrics=['accuracy'])\n",
        "\n",
        "model_rnn.summary()\n",
        "\n",
        "batch_size = 150\n",
        "epochs = 10\n",
        "\n",
        "def lr_schedule(epoch, lr):\n",
        "    return lr * 0.9 ** epoch\n",
        "\n",
        "\n",
        "\n",
        "early_stopping = EarlyStopping(monitor='val_loss', patience=5, restore_best_weights=True)\n",
        "lr_scheduler = LearningRateScheduler(lr_schedule)\n",
        "\n",
        "history = model_rnn.fit(X_train_pad3, y_train_with_imbalnce_with_3_classes, validation_split=0.2, batch_size=batch_size, epochs=epochs, callbacks=[early_stopping, lr_scheduler])\n",
        "\n"
      ],
      "metadata": {
        "colab": {
          "base_uri": "https://localhost:8080/"
        },
        "id": "Tpa0nyHg69iz",
        "outputId": "36581d28-fd1d-48d3-e2c5-905c4b760d84"
      },
      "execution_count": null,
      "outputs": [
        {
          "output_type": "stream",
          "name": "stdout",
          "text": [
            "Model: \"sequential_16\"\n",
            "_________________________________________________________________\n",
            " Layer (type)                Output Shape              Param #   \n",
            "=================================================================\n",
            " embedding_15 (Embedding)    (None, 100, 128)          1280000   \n",
            "                                                                 \n",
            " simple_rnn_1 (SimpleRNN)    (None, 50)                8950      \n",
            "                                                                 \n",
            " dense_20 (Dense)            (None, 3)                 153       \n",
            "                                                                 \n",
            "=================================================================\n",
            "Total params: 1289103 (4.92 MB)\n",
            "Trainable params: 1289103 (4.92 MB)\n",
            "Non-trainable params: 0 (0.00 Byte)\n",
            "_________________________________________________________________\n",
            "Epoch 1/10\n",
            "163/163 [==============================] - 30s 172ms/step - loss: 0.4817 - accuracy: 0.7854 - val_loss: 0.3547 - val_accuracy: 0.8488 - lr: 0.0010\n",
            "Epoch 2/10\n",
            "163/163 [==============================] - 21s 131ms/step - loss: 0.3332 - accuracy: 0.8659 - val_loss: 0.3581 - val_accuracy: 0.8483 - lr: 9.0000e-04\n",
            "Epoch 3/10\n",
            "163/163 [==============================] - 19s 119ms/step - loss: 0.2293 - accuracy: 0.9130 - val_loss: 0.3627 - val_accuracy: 0.8549 - lr: 7.2900e-04\n",
            "Epoch 4/10\n",
            "163/163 [==============================] - 18s 109ms/step - loss: 0.1793 - accuracy: 0.9368 - val_loss: 0.3874 - val_accuracy: 0.8570 - lr: 5.3144e-04\n",
            "Epoch 5/10\n",
            "163/163 [==============================] - 17s 106ms/step - loss: 0.1502 - accuracy: 0.9486 - val_loss: 0.4086 - val_accuracy: 0.8546 - lr: 3.4868e-04\n",
            "Epoch 6/10\n",
            "163/163 [==============================] - 18s 107ms/step - loss: 0.1356 - accuracy: 0.9535 - val_loss: 0.4304 - val_accuracy: 0.8518 - lr: 2.0589e-04\n"
          ]
        }
      ]
    },
    {
      "cell_type": "code",
      "source": [
        "test_function(model_rnn)"
      ],
      "metadata": {
        "colab": {
          "base_uri": "https://localhost:8080/"
        },
        "id": "tfnrF4i_EBzi",
        "outputId": "8dc69d0b-d773-49bb-a431-3a1851a24814"
      },
      "execution_count": null,
      "outputs": [
        {
          "output_type": "stream",
          "name": "stdout",
          "text": [
            "32/32 [==============================] - 0s 8ms/step\n",
            "[[0.12018842 0.00259226 0.8772193 ]\n",
            " [0.01274662 0.00148052 0.9857729 ]\n",
            " [0.3678698  0.00377372 0.62835646]\n",
            " ...\n",
            " [0.14961147 0.00259504 0.8477935 ]\n",
            " [0.23557286 0.00371633 0.7607108 ]\n",
            " [0.95027936 0.00540559 0.04431508]]\n",
            "[2 2 2 2 2 2 0 0 2 2 2 2 2 2 0 2 0 0 2 0 2 2 2 2 2 0 2 2 2 0 0 0 0 0 0 2 2\n",
            " 2 2 2 2 2 2 2 2 0 2 0 2 2 2 2 0 0 0 2 0 0 2 0 2 2 0 0 2 2 0 2 0 0 0 2 2 0\n",
            " 0 0 2 0 2 2 0 2 2 2 2 2 2 2 2 2 2 2 2 2 0 2 0 0 2 2 2 0 2 0 2 2 0 0 2 2 2\n",
            " 2 2 0 2 2 2 2 2 0 2 2 2 2 2 2 2 0 2 2 0 0 2 2 2 0 2 2 2 2 0 0 2 0 2 0 0 2\n",
            " 2 2 2 2 2 0 2 2 2 0 2 2 2 2 2 2 0 0 2 2 2 2 2 0 2 2 2 2 2 0 2 0 0 2 2 2 2\n",
            " 2 2 2 2 2 2 0 2 2 2 2 0 2 2 2 2 2 2 0 0 2 2 2 2 2 0 2 2 0 0 2 2 0 2 2 2 0\n",
            " 2 2 0 2 0 2 2 2 2 2 2 2 2 2 0 2 2 2 0 0 2 2 2 2 2 0 0 2 2 0 2 0 0 2 0 2 2\n",
            " 2 2 0 2 2 2 2 0 0 0 2 0 2 0 0 2 0 0 2 2 2 2 2 2 0 0 2 0 2 2 2 2 2 2 2 2 2\n",
            " 2 2 2 2 0 2 2 2 2 2 2 2 2 2 2 2 2 2 2 2 2 0 2 2 0 2 2 0 2 2 2 2 2 0 0 2 2\n",
            " 2 2 2 2 2 0 2 0 2 2 2 2 2 2 2 2 2 2 0 0 2 0 2 2 2 0 0 2 0 0 0 0 2 2 2 0 0\n",
            " 2 0 2 0 2 2 2 0 0 2 2 2 0 0 2 2 2 2 2 0 2 2 2 0 2 2 2 0 0 2 2 2 2 2 0 2 2\n",
            " 0 2 2 2 0 0 2 2 0 0 2 2 0 2 2 2 0 2 0 2 2 0 0 0 2 2 2 0 2 2 0 0 2 0 2 2 2\n",
            " 2 2 2 2 2 2 0 2 0 0 2 2 2 2 0 2 2 2 2 0 2 2 2 0 2 2 2 2 0 2 2 2 2 2 2 2 2\n",
            " 0 2 2 2 2 2 2 2 2 2 0 2 0 0 2 2 2 2 2 0 0 2 2 2 2 2 0 2 0 2 0 2 2 2 0 2 2\n",
            " 2 2 0 2 2 2 2 2 0 2 0 2 0 2 2 0 0 0 2 2 2 0 2 2 2 2 2 2 2 2 2 0 2 2 2 2 2\n",
            " 2 2 2 2 2 0 0 0 2 2 0 0 0 2 0 0 2 2 2 2 0 2 2 2 0 2 2 2 2 2 2 0 2 2 0 0 2\n",
            " 2 0 2 2 2 2 2 2 2 2 2 0 2 2 2 2 2 0 2 2 2 2 0 2 2 2 2 2 2 2 0 0 0 2 2 2 0\n",
            " 2 2 2 2 2 2 2 2 2 2 2 0 2 2 2 2 2 2 2 0 2 2 0 2 2 2 2 2 2 0 2 0 2 0 2 2 0\n",
            " 0 2 2 0 2 0 2 2 0 2 2 0 2 0 2 2 0 2 2 2 0 0 2 2 2 2 2 2 2 0 2 2 0 2 0 2 2\n",
            " 2 2 0 2 2 2 2 2 2 2 2 0 0 2 0 2 2 2 2 2 0 0 2 2 0 2 2 2 2 0 2 0 2 2 0 2 2\n",
            " 2 0 2 2 2 2 0 0 2 2 2 0 0 2 0 0 0 2 2 0 0 2 2 2 0 0 0 0 2 2 2 2 2 2 2 2 0\n",
            " 2 0 2 2 2 2 2 0 2 2 2 2 2 2 0 2 0 2 0 0 0 0 2 2 2 2 2 2 2 2 2 2 0 2 2 0 2\n",
            " 2 2 0 2 2 2 0 2 0 2 2 2 2 2 2 0 2 0 2 2 0 0 2 2 2 2 2 2 2 2 2 0 2 2 2 2 2\n",
            " 2 2 0 0 2 2 2 2 0 2 2 0 0 2 2 2 2 2 2 2 2 0 0 2 2 0 2 2 2 2 2 0 2 2 2 2 2\n",
            " 0 2 2 2 2 2 2 2 2 2 2 2 2 0 2 2 2 2 0 2 2 0 2 0 2 2 2 2 0 2 2 0 0 2 2 2 2\n",
            " 2 2 0 2 2 0 2 0 2 2 0 0 2 2 2 2 2 0 0 0 2 2 2 2 2 2 2 0 0 2 0 0 0 0 2 2 0\n",
            " 0 2 2 2 0 0 2 0 0 2 2 2 2 2 0 2 0 2 2 2 2 0 2 0 2 0 2 0 2 2 2 2 2 2 0 2 2\n",
            " 0]\n",
            "[ 1  1  1  1  1  1 -1 -1  1  1  1  1  1  1 -1  1 -1 -1  1 -1  1  1  1  1\n",
            "  1 -1  1  1  1 -1 -1 -1 -1 -1 -1  1  1  1  1  1  1  1  1  1  1 -1  1 -1\n",
            "  1  1  1  1 -1 -1 -1  1 -1 -1  1 -1  1  1 -1 -1  1  1 -1  1 -1 -1 -1  1\n",
            "  1 -1 -1 -1  1 -1  1  1 -1  1  1  1  1  1  1  1  1  1  1  1  1  1 -1  1\n",
            " -1 -1  1  1  1 -1  1 -1  1  1 -1 -1  1  1  1  1  1 -1  1  1  1  1  1 -1\n",
            "  1  1  1  1  1  1  1 -1  1  1 -1 -1  1  1  1 -1  1  1  1  1 -1 -1  1 -1\n",
            "  1 -1 -1  1  1  1  1  1  1 -1  1  1  1 -1  1  1  1  1  1  1 -1 -1  1  1\n",
            "  1  1  1 -1  1  1  1  1  1 -1  1 -1 -1  1  1  1  1  1  1  1  1  1  1 -1\n",
            "  1  1  1  1 -1  1  1  1  1  1  1 -1 -1  1  1  1  1  1 -1  1  1 -1 -1  1\n",
            "  1 -1  1  1  1 -1  1  1 -1  1 -1  1  1  1  1  1  1  1  1  1 -1  1  1  1\n",
            " -1 -1  1  1  1  1  1 -1 -1  1  1 -1  1 -1 -1  1 -1  1  1  1  1 -1  1  1\n",
            "  1  1 -1 -1 -1  1 -1  1 -1 -1  1 -1 -1  1  1  1  1  1  1 -1 -1  1 -1  1\n",
            "  1  1  1  1  1  1  1  1  1  1  1  1 -1  1  1  1  1  1  1  1  1  1  1  1\n",
            "  1  1  1  1  1 -1  1  1 -1  1  1 -1  1  1  1  1  1 -1 -1  1  1  1  1  1\n",
            "  1  1 -1  1 -1  1  1  1  1  1  1  1  1  1  1 -1 -1  1 -1  1  1  1 -1 -1\n",
            "  1 -1 -1 -1 -1  1  1  1 -1 -1  1 -1  1 -1  1  1  1 -1 -1  1  1  1 -1 -1\n",
            "  1  1  1  1  1 -1  1  1  1 -1  1  1  1 -1 -1  1  1  1  1  1 -1  1  1 -1\n",
            "  1  1  1 -1 -1  1  1 -1 -1  1  1 -1  1  1  1 -1  1 -1  1  1 -1 -1 -1  1\n",
            "  1  1 -1  1  1 -1 -1  1 -1  1  1  1  1  1  1  1  1  1 -1  1 -1 -1  1  1\n",
            "  1  1 -1  1  1  1  1 -1  1  1  1 -1  1  1  1  1 -1  1  1  1  1  1  1  1\n",
            "  1 -1  1  1  1  1  1  1  1  1  1 -1  1 -1 -1  1  1  1  1  1 -1 -1  1  1\n",
            "  1  1  1 -1  1 -1  1 -1  1  1  1 -1  1  1  1  1 -1  1  1  1  1  1 -1  1\n",
            " -1  1 -1  1  1 -1 -1 -1  1  1  1 -1  1  1  1  1  1  1  1  1  1 -1  1  1\n",
            "  1  1  1  1  1  1  1  1 -1 -1 -1  1  1 -1 -1 -1  1 -1 -1  1  1  1  1 -1\n",
            "  1  1  1 -1  1  1  1  1  1  1 -1  1  1 -1 -1  1  1 -1  1  1  1  1  1  1\n",
            "  1  1  1 -1  1  1  1  1  1 -1  1  1  1  1 -1  1  1  1  1  1  1  1 -1 -1\n",
            " -1  1  1  1 -1  1  1  1  1  1  1  1  1  1  1  1 -1  1  1  1  1  1  1  1\n",
            " -1  1  1 -1  1  1  1  1  1  1 -1  1 -1  1 -1  1  1 -1 -1  1  1 -1  1 -1\n",
            "  1  1 -1  1  1 -1  1 -1  1  1 -1  1  1  1 -1 -1  1  1  1  1  1  1  1 -1\n",
            "  1  1 -1  1 -1  1  1  1  1 -1  1  1  1  1  1  1  1  1 -1 -1  1 -1  1  1\n",
            "  1  1  1 -1 -1  1  1 -1  1  1  1  1 -1  1 -1  1  1 -1  1  1  1 -1  1  1\n",
            "  1  1 -1 -1  1  1  1 -1 -1  1 -1 -1 -1  1  1 -1 -1  1  1  1 -1 -1 -1 -1\n",
            "  1  1  1  1  1  1  1  1 -1  1 -1  1  1  1  1  1 -1  1  1  1  1  1  1 -1\n",
            "  1 -1  1 -1 -1 -1 -1  1  1  1  1  1  1  1  1  1  1 -1  1  1 -1  1  1  1\n",
            " -1  1  1  1 -1  1 -1  1  1  1  1  1  1 -1  1 -1  1  1 -1 -1  1  1  1  1\n",
            "  1  1  1  1  1 -1  1  1  1  1  1  1  1 -1 -1  1  1  1  1 -1  1  1 -1 -1\n",
            "  1  1  1  1  1  1  1  1 -1 -1  1  1 -1  1  1  1  1  1 -1  1  1  1  1  1\n",
            " -1  1  1  1  1  1  1  1  1  1  1  1  1 -1  1  1  1  1 -1  1  1 -1  1 -1\n",
            "  1  1  1  1 -1  1  1 -1 -1  1  1  1  1  1  1 -1  1  1 -1  1 -1  1  1 -1\n",
            " -1  1  1  1  1  1 -1 -1 -1  1  1  1  1  1  1  1 -1 -1  1 -1 -1 -1 -1  1\n",
            "  1 -1 -1  1  1  1 -1 -1  1 -1 -1  1  1  1  1  1 -1  1 -1  1  1  1  1 -1\n",
            "  1 -1  1 -1  1 -1  1  1  1  1  1  1 -1  1  1 -1]\n"
          ]
        }
      ]
    },
    {
      "cell_type": "code",
      "source": [
        "\n",
        "def lr_schedule(epoch):\n",
        "    if epoch < 5:\n",
        "        return 0.0001\n",
        "    elif epoch <10:\n",
        "        return 0.001\n",
        "\n",
        "lr_scheduler = LearningRateScheduler(lr_schedule)\n",
        "\n",
        "\n",
        "def transformer_classification_model(max_seq_length, vocab_size, num_heads=8, ff_dim=32, num_blocks=6, dropout_rate=0.1):\n",
        "\n",
        "    inputs = Input(shape=(max_seq_length,))\n",
        "\n",
        "    embedding_layer = Embedding(input_dim=vocab_size, output_dim=128)(inputs)\n",
        "\n",
        "    x = embedding_layer\n",
        "    for _ in range(num_blocks):\n",
        "        x = transformer_block(x, max_seq_length, num_heads, ff_dim, dropout_rate)\n",
        "\n",
        "    x = GlobalAveragePooling1D()(x)\n",
        "\n",
        "    x = Dense(64, activation='relu')(x)\n",
        "    x = Dropout(0.1)(x)\n",
        "    outputs = Dense(3, activation='softmax')(x)\n",
        "    model = Model(inputs=inputs, outputs=outputs)\n",
        "\n",
        "    return model\n",
        "\n",
        "def transformer_block(x, max_seq_length, num_heads, ff_dim, dropout_rate=0.1):\n",
        "    # Multi-Head Self Attention\n",
        "    multi_head_attention = tf.keras.layers.MultiHeadAttention(\n",
        "        num_heads=num_heads, key_dim=256, dropout=dropout_rate\n",
        "    )(x, x)\n",
        "\n",
        "    # Add & Norm\n",
        "    x = tf.keras.layers.Add()([x, multi_head_attention])\n",
        "    x = tf.keras.layers.LayerNormalization()(x)\n",
        "\n",
        "    # Feed Forward Part\n",
        "    ff = tf.keras.layers.Conv1D(filters=ff_dim, kernel_size=1, activation='relu')(x)\n",
        "    ff = tf.keras.layers.Dropout(dropout_rate)(ff)\n",
        "    ff = tf.keras.layers.Conv1D(filters=128, kernel_size=1)(ff)\n",
        "\n",
        "    # Add & Norm\n",
        "    x = tf.keras.layers.Add()([x, ff])\n",
        "    x = tf.keras.layers.LayerNormalization()(x)\n",
        "\n",
        "    return x\n",
        "\n",
        "max_seq_length = 100\n",
        "vocab_size = 10000\n",
        "num_heads = 7\n",
        "ff_dim = 20\n",
        "num_blocks = 3\n",
        "dropout_rate = 0.1\n",
        "\n",
        "model = transformer_classification_model(max_seq_length, vocab_size, num_heads, ff_dim, num_blocks, dropout_rate)\n",
        "\n",
        "model.compile(loss='categorical_crossentropy', optimizer='adam', metrics=['accuracy'])\n",
        "\n",
        "early_stopping = EarlyStopping(monitor='val_loss', patience=5, restore_best_weights=True)\n",
        "\n",
        "h=model.fit(X_train_pad3, y_train_with_imbalnce_with_3_classes, validation_split=0.2, epochs=15, batch_size=32, callbacks=[early_stopping,lr_scheduler])\n",
        "\n"
      ],
      "metadata": {
        "colab": {
          "base_uri": "https://localhost:8080/"
        },
        "id": "zMN3WXsw0i0p",
        "outputId": "f8a7ec51-b2b7-4bf9-d894-373fedf23766"
      },
      "execution_count": null,
      "outputs": [
        {
          "output_type": "stream",
          "name": "stdout",
          "text": [
            "Epoch 1/15\n",
            "764/764 [==============================] - 68s 75ms/step - loss: 0.4416 - accuracy: 0.8013 - val_loss: 0.3457 - val_accuracy: 0.8534 - lr: 1.0000e-04\n",
            "Epoch 2/15\n",
            "764/764 [==============================] - 46s 61ms/step - loss: 0.2942 - accuracy: 0.8839 - val_loss: 0.3535 - val_accuracy: 0.8664 - lr: 1.0000e-04\n",
            "Epoch 3/15\n",
            "764/764 [==============================] - 45s 59ms/step - loss: 0.2435 - accuracy: 0.9088 - val_loss: 0.3662 - val_accuracy: 0.8519 - lr: 1.0000e-04\n",
            "Epoch 4/15\n",
            "764/764 [==============================] - 45s 59ms/step - loss: 0.2087 - accuracy: 0.9231 - val_loss: 0.4142 - val_accuracy: 0.8544 - lr: 1.0000e-04\n",
            "Epoch 5/15\n",
            "764/764 [==============================] - 45s 59ms/step - loss: 0.1811 - accuracy: 0.9344 - val_loss: 0.4936 - val_accuracy: 0.8521 - lr: 1.0000e-04\n",
            "Epoch 6/15\n",
            "764/764 [==============================] - 44s 58ms/step - loss: 0.6625 - accuracy: 0.6330 - val_loss: 0.6694 - val_accuracy: 0.6122 - lr: 0.0010\n"
          ]
        }
      ]
    },
    {
      "cell_type": "code",
      "source": [
        "test_function(model)"
      ],
      "metadata": {
        "colab": {
          "base_uri": "https://localhost:8080/"
        },
        "id": "X6pXPgOAEskC",
        "outputId": "6104f946-53cb-49fa-a57c-a142430ad77a"
      },
      "execution_count": null,
      "outputs": [
        {
          "output_type": "stream",
          "name": "stdout",
          "text": [
            "32/32 [==============================] - 1s 22ms/step\n",
            "[[3.9771801e-01 3.0088206e-04 6.0198110e-01]\n",
            " [1.6457841e-02 9.6437165e-05 9.8344570e-01]\n",
            " [4.8195553e-01 3.9283649e-04 5.1765162e-01]\n",
            " ...\n",
            " [1.3238643e-01 8.0266844e-05 8.6753327e-01]\n",
            " [3.2702655e-01 1.7857907e-04 6.7279482e-01]\n",
            " [9.6044081e-01 1.6908505e-04 3.9390113e-02]]\n",
            "[2 2 2 2 2 2 0 0 2 2 2 2 2 2 0 2 0 2 2 0 2 2 2 2 0 0 2 2 2 0 2 0 0 0 0 2 2\n",
            " 2 2 2 2 2 2 2 2 0 2 0 2 2 2 2 2 0 0 2 2 0 2 0 2 2 0 0 2 2 0 2 0 0 0 2 2 0\n",
            " 0 0 0 0 2 2 2 2 2 2 2 2 2 2 2 2 2 2 2 2 0 2 0 0 2 2 0 0 2 0 2 2 0 0 2 2 2\n",
            " 2 2 0 2 0 2 0 2 0 2 2 2 2 2 2 2 2 2 2 2 0 2 2 2 0 2 2 2 2 2 0 2 0 2 0 0 2\n",
            " 2 2 2 2 2 0 0 2 2 0 2 2 2 2 2 2 0 0 0 2 2 2 2 0 2 2 0 2 2 0 2 0 0 2 2 2 2\n",
            " 2 2 2 2 2 2 0 2 2 0 2 0 2 2 2 2 2 2 0 0 2 2 0 2 2 0 2 2 0 0 2 2 0 2 2 2 0\n",
            " 0 2 0 2 0 2 0 2 2 2 2 2 2 2 0 2 2 2 0 0 2 2 2 2 2 0 0 2 2 0 2 0 0 2 0 2 2\n",
            " 2 2 2 2 2 2 2 0 0 0 2 0 2 0 0 2 0 0 2 2 2 2 2 2 0 0 0 2 2 2 0 2 2 2 2 2 2\n",
            " 0 2 2 0 0 0 2 2 2 2 2 2 2 2 2 2 2 2 2 2 0 0 2 2 0 0 2 2 2 2 2 2 2 0 0 2 2\n",
            " 2 2 2 2 2 0 2 0 2 2 2 2 2 2 2 2 2 2 0 0 2 0 2 2 2 0 0 2 0 2 0 0 2 2 2 0 0\n",
            " 2 0 2 0 2 2 2 0 0 2 2 0 0 0 2 2 2 2 2 0 2 2 2 0 2 2 2 0 0 2 2 2 2 2 0 2 2\n",
            " 0 2 2 2 0 0 2 2 0 0 2 2 0 2 2 2 0 2 0 2 2 0 2 0 2 2 2 0 2 2 0 2 2 0 2 2 2\n",
            " 2 2 0 2 2 0 0 2 0 0 2 2 0 2 0 2 2 2 2 0 2 2 2 0 2 2 2 2 0 2 2 2 2 2 2 2 2\n",
            " 0 2 2 2 2 2 2 2 2 0 2 2 0 0 2 2 2 2 2 0 0 2 2 2 2 2 0 2 0 2 0 2 2 2 2 2 2\n",
            " 2 2 0 2 2 2 2 2 0 2 2 2 0 2 2 0 0 0 2 2 0 0 2 2 2 2 2 2 2 2 2 0 2 2 0 2 2\n",
            " 2 2 2 2 2 0 2 0 2 2 0 0 0 2 2 0 2 0 2 2 0 2 2 2 2 2 2 2 2 0 2 0 2 2 0 0 0\n",
            " 2 0 2 2 2 2 2 2 2 2 2 0 2 2 2 0 2 2 2 2 2 0 0 0 2 2 2 2 2 2 2 0 0 2 0 2 0\n",
            " 2 2 2 2 2 2 0 2 2 2 2 0 2 2 2 2 2 2 2 0 2 2 0 2 2 2 0 2 2 2 2 0 2 0 2 2 0\n",
            " 2 0 2 0 2 0 2 2 0 2 2 0 0 0 2 2 0 2 2 2 0 0 0 2 2 2 0 2 2 0 2 2 0 2 0 2 2\n",
            " 2 2 0 2 2 2 2 2 2 2 2 0 0 2 0 2 2 2 2 2 0 0 2 2 0 2 2 2 2 0 2 0 2 2 0 2 2\n",
            " 0 0 2 2 2 2 0 2 2 0 2 0 0 2 0 0 0 2 2 0 0 2 2 2 0 0 0 0 2 2 2 2 2 2 0 2 0\n",
            " 2 0 2 2 2 2 2 0 2 2 2 0 2 2 0 2 0 2 2 0 0 0 2 2 2 2 2 2 2 2 2 2 2 2 2 0 2\n",
            " 0 2 0 2 2 2 0 2 0 2 2 2 2 2 2 0 2 0 2 2 0 0 2 2 2 0 2 2 2 2 0 0 2 2 0 2 2\n",
            " 2 2 0 0 2 2 2 2 0 0 2 0 2 2 2 2 2 2 2 2 2 0 0 2 2 0 0 2 2 2 2 0 2 2 2 2 2\n",
            " 0 2 2 2 2 2 2 2 2 2 2 2 0 0 2 2 2 2 0 2 2 0 2 0 2 2 2 2 0 2 2 0 0 2 2 2 0\n",
            " 2 2 0 2 2 0 2 0 2 2 0 0 2 2 2 2 2 0 0 0 2 2 2 2 2 2 2 0 0 2 0 0 2 0 2 2 0\n",
            " 0 2 0 2 0 0 2 0 2 2 2 2 2 2 2 2 0 2 2 2 0 0 2 0 2 0 2 2 2 2 2 2 2 2 0 2 2\n",
            " 0]\n",
            "[ 1  1  1  1  1  1 -1 -1  1  1  1  1  1  1 -1  1 -1  1  1 -1  1  1  1  1\n",
            " -1 -1  1  1  1 -1  1 -1 -1 -1 -1  1  1  1  1  1  1  1  1  1  1 -1  1 -1\n",
            "  1  1  1  1  1 -1 -1  1  1 -1  1 -1  1  1 -1 -1  1  1 -1  1 -1 -1 -1  1\n",
            "  1 -1 -1 -1 -1 -1  1  1  1  1  1  1  1  1  1  1  1  1  1  1  1  1 -1  1\n",
            " -1 -1  1  1 -1 -1  1 -1  1  1 -1 -1  1  1  1  1  1 -1  1 -1  1 -1  1 -1\n",
            "  1  1  1  1  1  1  1  1  1  1  1 -1  1  1  1 -1  1  1  1  1  1 -1  1 -1\n",
            "  1 -1 -1  1  1  1  1  1  1 -1 -1  1  1 -1  1  1  1  1  1  1 -1 -1 -1  1\n",
            "  1  1  1 -1  1  1 -1  1  1 -1  1 -1 -1  1  1  1  1  1  1  1  1  1  1 -1\n",
            "  1  1 -1  1 -1  1  1  1  1  1  1 -1 -1  1  1 -1  1  1 -1  1  1 -1 -1  1\n",
            "  1 -1  1  1  1 -1 -1  1 -1  1 -1  1 -1  1  1  1  1  1  1  1 -1  1  1  1\n",
            " -1 -1  1  1  1  1  1 -1 -1  1  1 -1  1 -1 -1  1 -1  1  1  1  1  1  1  1\n",
            "  1  1 -1 -1 -1  1 -1  1 -1 -1  1 -1 -1  1  1  1  1  1  1 -1 -1 -1  1  1\n",
            "  1 -1  1  1  1  1  1  1 -1  1  1 -1 -1 -1  1  1  1  1  1  1  1  1  1  1\n",
            "  1  1  1  1 -1 -1  1  1 -1 -1  1  1  1  1  1  1  1 -1 -1  1  1  1  1  1\n",
            "  1  1 -1  1 -1  1  1  1  1  1  1  1  1  1  1 -1 -1  1 -1  1  1  1 -1 -1\n",
            "  1 -1  1 -1 -1  1  1  1 -1 -1  1 -1  1 -1  1  1  1 -1 -1  1  1 -1 -1 -1\n",
            "  1  1  1  1  1 -1  1  1  1 -1  1  1  1 -1 -1  1  1  1  1  1 -1  1  1 -1\n",
            "  1  1  1 -1 -1  1  1 -1 -1  1  1 -1  1  1  1 -1  1 -1  1  1 -1  1 -1  1\n",
            "  1  1 -1  1  1 -1  1  1 -1  1  1  1  1  1 -1  1  1 -1 -1  1 -1 -1  1  1\n",
            " -1  1 -1  1  1  1  1 -1  1  1  1 -1  1  1  1  1 -1  1  1  1  1  1  1  1\n",
            "  1 -1  1  1  1  1  1  1  1  1 -1  1  1 -1 -1  1  1  1  1  1 -1 -1  1  1\n",
            "  1  1  1 -1  1 -1  1 -1  1  1  1  1  1  1  1  1 -1  1  1  1  1  1 -1  1\n",
            "  1  1 -1  1  1 -1 -1 -1  1  1 -1 -1  1  1  1  1  1  1  1  1  1 -1  1  1\n",
            " -1  1  1  1  1  1  1  1 -1  1 -1  1  1 -1 -1 -1  1  1 -1  1 -1  1  1 -1\n",
            "  1  1  1  1  1  1  1  1 -1  1 -1  1  1 -1 -1 -1  1 -1  1  1  1  1  1  1\n",
            "  1  1  1 -1  1  1  1 -1  1  1  1  1  1 -1 -1 -1  1  1  1  1  1  1  1 -1\n",
            " -1  1 -1  1 -1  1  1  1  1  1  1 -1  1  1  1  1 -1  1  1  1  1  1  1  1\n",
            " -1  1  1 -1  1  1  1 -1  1  1  1  1 -1  1 -1  1  1 -1  1 -1  1 -1  1 -1\n",
            "  1  1 -1  1  1 -1 -1 -1  1  1 -1  1  1  1 -1 -1 -1  1  1  1 -1  1  1 -1\n",
            "  1  1 -1  1 -1  1  1  1  1 -1  1  1  1  1  1  1  1  1 -1 -1  1 -1  1  1\n",
            "  1  1  1 -1 -1  1  1 -1  1  1  1  1 -1  1 -1  1  1 -1  1  1 -1 -1  1  1\n",
            "  1  1 -1  1  1 -1  1 -1 -1  1 -1 -1 -1  1  1 -1 -1  1  1  1 -1 -1 -1 -1\n",
            "  1  1  1  1  1  1 -1  1 -1  1 -1  1  1  1  1  1 -1  1  1  1 -1  1  1 -1\n",
            "  1 -1  1  1 -1 -1 -1  1  1  1  1  1  1  1  1  1  1  1  1  1 -1  1 -1  1\n",
            " -1  1  1  1 -1  1 -1  1  1  1  1  1  1 -1  1 -1  1  1 -1 -1  1  1  1 -1\n",
            "  1  1  1  1 -1 -1  1  1 -1  1  1  1  1 -1 -1  1  1  1  1 -1 -1  1 -1  1\n",
            "  1  1  1  1  1  1  1  1 -1 -1  1  1 -1 -1  1  1  1  1 -1  1  1  1  1  1\n",
            " -1  1  1  1  1  1  1  1  1  1  1  1 -1 -1  1  1  1  1 -1  1  1 -1  1 -1\n",
            "  1  1  1  1 -1  1  1 -1 -1  1  1  1 -1  1  1 -1  1  1 -1  1 -1  1  1 -1\n",
            " -1  1  1  1  1  1 -1 -1 -1  1  1  1  1  1  1  1 -1 -1  1 -1 -1  1 -1  1\n",
            "  1 -1 -1  1 -1  1 -1 -1  1 -1  1  1  1  1  1  1  1  1 -1  1  1  1 -1 -1\n",
            "  1 -1  1 -1  1  1  1  1  1  1  1  1 -1  1  1 -1]\n"
          ]
        }
      ]
    },
    {
      "cell_type": "code",
      "source": [],
      "metadata": {
        "id": "0k_pyEc9Ghc4"
      },
      "execution_count": null,
      "outputs": []
    }
  ],
  "metadata": {
    "accelerator": "GPU",
    "colab": {
      "provenance": [],
      "gpuType": "T4"
    },
    "kernelspec": {
      "display_name": "Python 3",
      "name": "python3"
    },
    "language_info": {
      "name": "python"
    }
  },
  "nbformat": 4,
  "nbformat_minor": 0
}